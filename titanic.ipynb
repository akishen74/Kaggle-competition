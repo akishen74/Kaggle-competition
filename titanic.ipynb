{
 "nbformat": 4,
 "nbformat_minor": 2,
 "metadata": {
  "language_info": {
   "name": "python",
   "codemirror_mode": {
    "name": "ipython",
    "version": 3
   },
   "version": "3.8.2-final"
  },
  "orig_nbformat": 2,
  "file_extension": ".py",
  "mimetype": "text/x-python",
  "name": "python",
  "npconvert_exporter": "python",
  "pygments_lexer": "ipython3",
  "version": 3,
  "kernelspec": {
   "name": "python38232bite6fe2ffb28234a2b842b70bcda8bfdec",
   "display_name": "Python 3.8.2 32-bit"
  }
 },
 "cells": [
  {
   "cell_type": "code",
   "execution_count": 41,
   "metadata": {},
   "outputs": [],
   "source": [
    "import pandas as pd\n",
    "import numpy as np\n",
    "import matplotlib.pyplot as plt\n",
    "from matplotlib.colors import ListedColormap\n",
    "\n",
    "df = pd.read_csv('train.csv')"
   ]
  },
  {
   "cell_type": "code",
   "execution_count": 42,
   "metadata": {},
   "outputs": [
    {
     "output_type": "execute_result",
     "data": {
      "text/plain": "PassengerId      0\nSurvived         0\nPclass           0\nName             0\nSex              0\nAge            177\nSibSp            0\nParch            0\nTicket           0\nFare             0\nCabin          687\nEmbarked         2\ndtype: int64"
     },
     "metadata": {},
     "execution_count": 42
    }
   ],
   "source": [
    "df.isnull().sum()"
   ]
  },
  {
   "cell_type": "code",
   "execution_count": 43,
   "metadata": {},
   "outputs": [
    {
     "output_type": "execute_result",
     "data": {
      "text/plain": "     PassengerId  Survived  Pclass  \\\n0              1         0       3   \n1              2         1       1   \n2              3         1       3   \n3              4         1       1   \n4              5         0       3   \n..           ...       ...     ...   \n886          887         0       2   \n887          888         1       1   \n888          889         0       3   \n889          890         1       1   \n890          891         0       3   \n\n                                                  Name     Sex   Age  SibSp  \\\n0                              Braund, Mr. Owen Harris    male  22.0      1   \n1    Cumings, Mrs. John Bradley (Florence Briggs Th...  female  38.0      1   \n2                               Heikkinen, Miss. Laina  female  26.0      0   \n3         Futrelle, Mrs. Jacques Heath (Lily May Peel)  female  35.0      1   \n4                             Allen, Mr. William Henry    male  35.0      0   \n..                                                 ...     ...   ...    ...   \n886                              Montvila, Rev. Juozas    male  27.0      0   \n887                       Graham, Miss. Margaret Edith  female  19.0      0   \n888           Johnston, Miss. Catherine Helen \"Carrie\"  female   NaN      1   \n889                              Behr, Mr. Karl Howell    male  26.0      0   \n890                                Dooley, Mr. Patrick    male  32.0      0   \n\n     Parch            Ticket     Fare Cabin Embarked  Embarked_C  Embarked_Q  \\\n0        0         A/5 21171   7.2500   NaN        S           0           0   \n1        0          PC 17599  71.2833   C85        C           1           0   \n2        0  STON/O2. 3101282   7.9250   NaN        S           0           0   \n3        0            113803  53.1000  C123        S           0           0   \n4        0            373450   8.0500   NaN        S           0           0   \n..     ...               ...      ...   ...      ...         ...         ...   \n886      0            211536  13.0000   NaN        S           0           0   \n887      0            112053  30.0000   B42        S           0           0   \n888      2        W./C. 6607  23.4500   NaN        S           0           0   \n889      0            111369  30.0000  C148        C           1           0   \n890      0            370376   7.7500   NaN        Q           0           1   \n\n     Embarked_S  \n0             1  \n1             0  \n2             1  \n3             1  \n4             1  \n..          ...  \n886           1  \n887           1  \n888           1  \n889           0  \n890           0  \n\n[889 rows x 15 columns]",
      "text/html": "<div>\n<style scoped>\n    .dataframe tbody tr th:only-of-type {\n        vertical-align: middle;\n    }\n\n    .dataframe tbody tr th {\n        vertical-align: top;\n    }\n\n    .dataframe thead th {\n        text-align: right;\n    }\n</style>\n<table border=\"1\" class=\"dataframe\">\n  <thead>\n    <tr style=\"text-align: right;\">\n      <th></th>\n      <th>PassengerId</th>\n      <th>Survived</th>\n      <th>Pclass</th>\n      <th>Name</th>\n      <th>Sex</th>\n      <th>Age</th>\n      <th>SibSp</th>\n      <th>Parch</th>\n      <th>Ticket</th>\n      <th>Fare</th>\n      <th>Cabin</th>\n      <th>Embarked</th>\n      <th>Embarked_C</th>\n      <th>Embarked_Q</th>\n      <th>Embarked_S</th>\n    </tr>\n  </thead>\n  <tbody>\n    <tr>\n      <th>0</th>\n      <td>1</td>\n      <td>0</td>\n      <td>3</td>\n      <td>Braund, Mr. Owen Harris</td>\n      <td>male</td>\n      <td>22.0</td>\n      <td>1</td>\n      <td>0</td>\n      <td>A/5 21171</td>\n      <td>7.2500</td>\n      <td>NaN</td>\n      <td>S</td>\n      <td>0</td>\n      <td>0</td>\n      <td>1</td>\n    </tr>\n    <tr>\n      <th>1</th>\n      <td>2</td>\n      <td>1</td>\n      <td>1</td>\n      <td>Cumings, Mrs. John Bradley (Florence Briggs Th...</td>\n      <td>female</td>\n      <td>38.0</td>\n      <td>1</td>\n      <td>0</td>\n      <td>PC 17599</td>\n      <td>71.2833</td>\n      <td>C85</td>\n      <td>C</td>\n      <td>1</td>\n      <td>0</td>\n      <td>0</td>\n    </tr>\n    <tr>\n      <th>2</th>\n      <td>3</td>\n      <td>1</td>\n      <td>3</td>\n      <td>Heikkinen, Miss. Laina</td>\n      <td>female</td>\n      <td>26.0</td>\n      <td>0</td>\n      <td>0</td>\n      <td>STON/O2. 3101282</td>\n      <td>7.9250</td>\n      <td>NaN</td>\n      <td>S</td>\n      <td>0</td>\n      <td>0</td>\n      <td>1</td>\n    </tr>\n    <tr>\n      <th>3</th>\n      <td>4</td>\n      <td>1</td>\n      <td>1</td>\n      <td>Futrelle, Mrs. Jacques Heath (Lily May Peel)</td>\n      <td>female</td>\n      <td>35.0</td>\n      <td>1</td>\n      <td>0</td>\n      <td>113803</td>\n      <td>53.1000</td>\n      <td>C123</td>\n      <td>S</td>\n      <td>0</td>\n      <td>0</td>\n      <td>1</td>\n    </tr>\n    <tr>\n      <th>4</th>\n      <td>5</td>\n      <td>0</td>\n      <td>3</td>\n      <td>Allen, Mr. William Henry</td>\n      <td>male</td>\n      <td>35.0</td>\n      <td>0</td>\n      <td>0</td>\n      <td>373450</td>\n      <td>8.0500</td>\n      <td>NaN</td>\n      <td>S</td>\n      <td>0</td>\n      <td>0</td>\n      <td>1</td>\n    </tr>\n    <tr>\n      <th>...</th>\n      <td>...</td>\n      <td>...</td>\n      <td>...</td>\n      <td>...</td>\n      <td>...</td>\n      <td>...</td>\n      <td>...</td>\n      <td>...</td>\n      <td>...</td>\n      <td>...</td>\n      <td>...</td>\n      <td>...</td>\n      <td>...</td>\n      <td>...</td>\n      <td>...</td>\n    </tr>\n    <tr>\n      <th>886</th>\n      <td>887</td>\n      <td>0</td>\n      <td>2</td>\n      <td>Montvila, Rev. Juozas</td>\n      <td>male</td>\n      <td>27.0</td>\n      <td>0</td>\n      <td>0</td>\n      <td>211536</td>\n      <td>13.0000</td>\n      <td>NaN</td>\n      <td>S</td>\n      <td>0</td>\n      <td>0</td>\n      <td>1</td>\n    </tr>\n    <tr>\n      <th>887</th>\n      <td>888</td>\n      <td>1</td>\n      <td>1</td>\n      <td>Graham, Miss. Margaret Edith</td>\n      <td>female</td>\n      <td>19.0</td>\n      <td>0</td>\n      <td>0</td>\n      <td>112053</td>\n      <td>30.0000</td>\n      <td>B42</td>\n      <td>S</td>\n      <td>0</td>\n      <td>0</td>\n      <td>1</td>\n    </tr>\n    <tr>\n      <th>888</th>\n      <td>889</td>\n      <td>0</td>\n      <td>3</td>\n      <td>Johnston, Miss. Catherine Helen \"Carrie\"</td>\n      <td>female</td>\n      <td>NaN</td>\n      <td>1</td>\n      <td>2</td>\n      <td>W./C. 6607</td>\n      <td>23.4500</td>\n      <td>NaN</td>\n      <td>S</td>\n      <td>0</td>\n      <td>0</td>\n      <td>1</td>\n    </tr>\n    <tr>\n      <th>889</th>\n      <td>890</td>\n      <td>1</td>\n      <td>1</td>\n      <td>Behr, Mr. Karl Howell</td>\n      <td>male</td>\n      <td>26.0</td>\n      <td>0</td>\n      <td>0</td>\n      <td>111369</td>\n      <td>30.0000</td>\n      <td>C148</td>\n      <td>C</td>\n      <td>1</td>\n      <td>0</td>\n      <td>0</td>\n    </tr>\n    <tr>\n      <th>890</th>\n      <td>891</td>\n      <td>0</td>\n      <td>3</td>\n      <td>Dooley, Mr. Patrick</td>\n      <td>male</td>\n      <td>32.0</td>\n      <td>0</td>\n      <td>0</td>\n      <td>370376</td>\n      <td>7.7500</td>\n      <td>NaN</td>\n      <td>Q</td>\n      <td>0</td>\n      <td>1</td>\n      <td>0</td>\n    </tr>\n  </tbody>\n</table>\n<p>889 rows × 15 columns</p>\n</div>"
     },
     "metadata": {},
     "execution_count": 43
    }
   ],
   "source": [
    "df = df.dropna(subset=['Embarked'])\n",
    "# Embarked_mapping = {'S':1, \"C\":2, \"Q\":3}\n",
    "# df['Embarked'] = df['Embarked'].map(Embarked_mapping)\n",
    "df['Embarked_C'], df['Embarked_Q'], df['Embarked_S'] = pd.get_dummies(df['Embarked'])['C'], pd.get_dummies(df['Embarked'])['Q'], pd.get_dummies(df['Embarked'])['S']\n",
    "df"
   ]
  },
  {
   "cell_type": "code",
   "execution_count": 44,
   "metadata": {},
   "outputs": [
    {
     "output_type": "execute_result",
     "data": {
      "text/plain": "0      1\n1      0\n2      0\n3      0\n4      1\n      ..\n886    1\n887    0\n888    0\n889    1\n890    1\nName: Sex, Length: 889, dtype: int64"
     },
     "metadata": {},
     "execution_count": 44
    }
   ],
   "source": [
    "Sex_mapping = {'female':0, \"male\":1}\n",
    "df['Sex'] = df['Sex'].map(Sex_mapping)\n",
    "df['Sex']"
   ]
  },
  {
   "cell_type": "code",
   "execution_count": 45,
   "metadata": {},
   "outputs": [
    {
     "output_type": "execute_result",
     "data": {
      "text/plain": "{'Capt': 70.0,\n 'Col': 58.0,\n 'Countess': 33.0,\n 'Don': 40.0,\n 'Dr': 46.5,\n 'Jonkheer': 38.0,\n 'Lady': 48.0,\n 'Major': 48.5,\n 'Master': 3.5,\n 'Miss': 21.0,\n 'Mlle': 24.0,\n 'Mme': 24.0,\n 'Mr': 30.0,\n 'Mrs': 35.0,\n 'Ms': 28.0,\n 'Rev': 46.5,\n 'Sir': 49.0}"
     },
     "metadata": {},
     "execution_count": 45
    }
   ],
   "source": [
    "df['Title'] = df.Name.str.extract('([A-Za-z]+)\\.', expand=False)\n",
    "df_title = df['Title'].tolist()\n",
    "titles = []\n",
    "for i in range(len(df_title)):\n",
    "    if df_title[i] not in titles:\n",
    "        titles.append(df_title[i])\n",
    "titles_age_mean = df.groupby('Title')['Age'].median()\n",
    "titles_age_mean.tolist()\n",
    "title_uniq = df['Title'].unique().tolist()\n",
    "title_uniq.sort()\n",
    "titles_age_mapping = {}\n",
    "for i in range(len(titles_age_mean)):\n",
    "    titles_age_mapping[title_uniq[i]]= titles_age_mean[i]\n",
    "titles_age_mapping"
   ]
  },
  {
   "cell_type": "code",
   "execution_count": 46,
   "metadata": {},
   "outputs": [
    {
     "output_type": "execute_result",
     "data": {
      "text/plain": "PassengerId      0\nSurvived         0\nPclass           0\nName             0\nSex              0\nAge              0\nSibSp            0\nParch            0\nTicket           0\nFare             0\nCabin          687\nEmbarked         0\nEmbarked_C       0\nEmbarked_Q       0\nEmbarked_S       0\nTitle            0\ndtype: int64"
     },
     "metadata": {},
     "execution_count": 46
    }
   ],
   "source": [
    "df['Age'] = df['Age'] .fillna(df['Title'].map(titles_age_mapping))\n",
    "df.isnull().sum()"
   ]
  },
  {
   "cell_type": "code",
   "execution_count": 47,
   "metadata": {},
   "outputs": [],
   "source": [
    "from sklearn.preprocessing import StandardScaler\n",
    "\n",
    "bin=[0, 8, 16, 24, 32, 40, 48, 56, 64, 72, 80]\n",
    "df['Age_cut'] = pd.cut(df['Age'],bin, labels=[0,1,2,3,4,5,6,7,8,9])\n",
    "pd.value_counts(df['Age_cut'])\n",
    "scaler = StandardScaler()\n",
    "age_scale_param = scaler.fit(df['Age'].values.reshape(-1, 1))\n",
    "df['Age_scaled'] = scaler.fit_transform(df['Age'].values.reshape(-1, 1), age_scale_param)\n",
    "fare_scale_param = scaler.fit(df['Fare'].values.reshape(-1, 1))\n",
    "df['Fare_scaled'] = scaler.fit_transform(df['Fare'].values.reshape(-1, 1), age_scale_param)"
   ]
  },
  {
   "cell_type": "code",
   "execution_count": 48,
   "metadata": {},
   "outputs": [],
   "source": [
    "from sklearn.model_selection import train_test_split\n",
    "\n",
    "X, y = pd.DataFrame(), pd.DataFrame()\n",
    "#X['Pclass'], X['Sex'], X['Age_cut'], X['Embarked'] = df['Pclass'], df['Sex'], df['Age_cut'], df['Embarked'] \n",
    "X['Fare_scaled'], X['Pclass'], X['Sex'], X['Age_cut'], X['Embarked_C'], X['Embarked_Q'], X['Embarked_S'] = df['Fare_scaled'], df['Pclass'], df['Sex'], df['Age_cut'], df['Embarked_C'], df['Embarked_Q'], df['Embarked_S']\n",
    " \n",
    "y['Survived'] = df['Survived']\n",
    "X, y = X.values, y.values\n",
    "X_train, X_test, y_train, y_test = train_test_split(X, y, test_size=0.20, stratify=y, random_state=1)"
   ]
  },
  {
   "cell_type": "code",
   "execution_count": 49,
   "metadata": {},
   "outputs": [],
   "source": [
    "# from sklearn.ensemble import RandomForestClassifier\n",
    "# from sklearn.model_selection import validation_curve\n",
    "\n",
    "# param_range = np.arange(1, 80, 2)\n",
    "\n",
    "# train_scores, test_scores = validation_curve(RandomForestClassifier(), \n",
    "#                                              X=X_train, \n",
    "#                                              y=y_train, \n",
    "#                                              param_name=\"n_estimators\", \n",
    "#                                              param_range=param_range,\n",
    "#                                              cv=2, \n",
    "#                                              scoring=\"accuracy\", \n",
    "#                                              n_jobs=-1)\n",
    "# train_mean = np.mean(train_scores, axis=1)\n",
    "# train_std = np.std(train_scores, axis=1)\n",
    "# test_mean = np.mean(test_scores, axis=1)\n",
    "# test_std = np.std(test_scores, axis=1)\n",
    "\n",
    "# plt.plot(param_range, train_mean, color='blue', marker='o', markersize=5, label='訓練集準確度')\n",
    "# plt.fill_between(param_range, train_mean + train_std, train_mean - train_std, alpha=0.15, color='blue')\n",
    "\n",
    "# plt.plot(param_range, test_mean, color='green', linestyle='--', marker='s', markersize=5, label='訓練集準確度')\n",
    "# plt.fill_between(param_range, test_mean + test_std, test_mean - test_std, alpha=0.15, color='green')\n",
    "\n",
    "# plt.grid()\n",
    "# plt.xlabel('Tree Number')\n",
    "# plt.ylabel('Accuracy')\n",
    "# plt.ylim(0.7,0.9)\n",
    "# plt.show()"
   ]
  },
  {
   "cell_type": "code",
   "execution_count": 50,
   "metadata": {},
   "outputs": [],
   "source": [
    "# from sklearn.decomposition import KernelPCA\n",
    "\n",
    "# kpca = KernelPCA(n_components=2, kernel='rbf')\n",
    "# X_kpca = kpca.fit_transform(X)\n",
    "# X_train_kpca = kpca.fit_transform(X_train)\n",
    "# X_test_kpca = kpca.fit_transform(X_test)\n",
    ""
   ]
  },
  {
   "cell_type": "code",
   "execution_count": 51,
   "metadata": {},
   "outputs": [
    {
     "output_type": "stream",
     "name": "stdout",
     "text": "0.7941643891082093\n{'svc__C': 10.0, 'svc__gamma': 0.1, 'svc__kernel': 'rbf'}\n"
    }
   ],
   "source": [
    "from sklearn.svm import SVC\n",
    "from sklearn.model_selection import GridSearchCV\n",
    "from sklearn.pipeline import make_pipeline\n",
    "pipe_svc = make_pipeline(SVC(random_state=0))\n",
    "param_range = [0.0001, 0.001, 0.01, 0.1, 1.0, 10.0, 100.0, 1000.0]\n",
    "param_grid = [{'svc__C': param_range, \n",
    "               'svc__kernel': ['linear']},\n",
    "              {'svc__C': param_range, \n",
    "               'svc__gamma': param_range, \n",
    "               'svc__kernel': ['rbf']}]\n",
    "\n",
    "gs = GridSearchCV(estimator=pipe_svc, \n",
    "                  param_grid=param_grid, \n",
    "                  scoring='accuracy', \n",
    "                  cv=2,\n",
    "                  n_jobs=-1)\n",
    "gs = gs.fit(X, y)\n",
    "print(gs.best_score_)\n",
    "print(gs.best_params_)"
   ]
  },
  {
   "cell_type": "code",
   "execution_count": 52,
   "metadata": {},
   "outputs": [],
   "source": [
    "# forest = RandomForestClassifier(random_state=1)\n",
    "# PRF=[{'n_estimators':[10,100],'max_depth':[3,6],'criterion':['gini','entropy']}]\n",
    "# GSRF=GridSearchCV(estimator=forest, param_grid=PRF, scoring='accuracy',cv=2)\n",
    "# GSRF.fit(X, y)\n",
    "# print(GSRF.best_score_)\n",
    "# print(GSRF.best_params_)"
   ]
  },
  {
   "cell_type": "code",
   "execution_count": 53,
   "metadata": {},
   "outputs": [],
   "source": [
    "import os\n",
    "os.getcwd()\n",
    "\n",
    "final_test_df = pd.read_csv('test.csv')\n",
    "#final_test_df['Embarked'] = final_test_df['Embarked'].map(Embarked_mapping)\n",
    "final_test_df['Sex'] = final_test_df['Sex'].map(Sex_mapping)\n",
    "final_test_df['Age'] = final_test_df['Age'] .fillna(df['Title'].map(titles_age_mapping))\n",
    "final_test_df['Fare'] = final_test_df['Fare'].fillna(df['Fare'].mean())\n",
    "final_test_df['Age_cut'] = pd.cut(final_test_df['Age'],bin, labels=[0,1,2,3,4,5,6,7,8,9])\n",
    "final_test_df['Embarked_C'], final_test_df['Embarked_Q'], final_test_df['Embarked_S'] = pd.get_dummies(final_test_df['Embarked'])['C'], pd.get_dummies(final_test_df['Embarked'])['Q'], pd.get_dummies(final_test_df['Embarked'])['S']\n",
    "\n",
    "age_scale_param = scaler.fit(final_test_df['Age'].values.reshape(-1, 1))\n",
    "final_test_df['Age_scaled'] = scaler.fit_transform(final_test_df['Age'].values.reshape(-1, 1), age_scale_param)\n",
    "\n",
    "fare_scale_param = scaler.fit(final_test_df['Fare'].values.reshape(-1, 1))\n",
    "final_test_df['Fare_scaled'] = scaler.fit_transform(final_test_df['Fare'].values.reshape(-1, 1), age_scale_param)\n",
    "\n",
    "final = pd.DataFrame()\n",
    "#final['Pclass'], final['Sex'], final['Age_cut'], final['Embarked'] = final_test_df['Pclass'], final_test_df['Sex'], final_test_df['Age_cut'], final_test_df['Embarked'] \n",
    "final['Fare_scaled'], final['Pclass'],  final['Sex'], final['Age_cut'], final['Embarked_C'], final['Embarked_Q'], final['Embarked_S']  = final_test_df['Fare_scaled'], final_test_df['Pclass'], final_test_df['Sex'], final_test_df['Age_cut'], final_test_df['Embarked_C'], final_test_df['Embarked_Q'], final_test_df['Embarked_S'] \n",
    "\n",
    "# final_kpca = kpca.fit_transform(final)\n",
    "submission = pd.DataFrame()\n",
    "submission['PassengerId'] = final_test_df['PassengerId']\n",
    "submission['Survived'] = gs.predict(final)\n",
    "submission.to_csv('submission.csv', index=False)"
   ]
  },
  {
   "cell_type": "code",
   "execution_count": null,
   "metadata": {},
   "outputs": [],
   "source": []
  }
 ]
}