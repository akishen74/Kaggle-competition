{
 "cells": [
  {
   "cell_type": "code",
   "execution_count": 106,
   "metadata": {},
   "outputs": [
    {
     "output_type": "execute_result",
     "data": {
      "text/plain": "CH      逾期90天以上  信用卡+信貸額度  年齡  逾期30天以上次數     月可支配所得比例      月收入  未清償債務數量  \\\n0           1.0  0.766127  45          2     0.802982   9120.0       13   \n1           0.0  0.957151  40          0     0.121876   2600.0        4   \n2           0.0  0.658180  38          1     0.085113   3042.0        2   \n3           0.0  0.233810  30          0     0.036050   3300.0        5   \n4           0.0  0.907239  49          1     0.024926  63588.0        7   \n...         ...       ...  ..        ...          ...      ...      ...   \n251498      NaN  0.282653  24          0     0.068522   1400.0        5   \n251499      NaN  0.922156  36          3     0.934217   7615.0        8   \n251500      NaN  0.081596  70          0   836.000000      NaN        3   \n251501      NaN  0.335457  56          0  3568.000000      NaN        8   \n251502      NaN  0.441842  29          0     0.198918   5916.0       12   \n\nCH      逾期90天以上次數  抵押貸款數量  逾期60天以上次數  眷屬數量  \n0               0       6          0   2.0  \n1               0       0          0   1.0  \n2               1       0          0   0.0  \n3               0       0          0   0.0  \n4               0       1          0   0.0  \n...           ...     ...        ...   ...  \n251498          0       0          0   0.0  \n251499          0       2          0   4.0  \n251500          0       0          0   NaN  \n251501          0       2          1   3.0  \n251502          0       0          0   0.0  \n\n[251503 rows x 11 columns]",
      "text/html": "<div>\n<style scoped>\n    .dataframe tbody tr th:only-of-type {\n        vertical-align: middle;\n    }\n\n    .dataframe tbody tr th {\n        vertical-align: top;\n    }\n\n    .dataframe thead th {\n        text-align: right;\n    }\n</style>\n<table border=\"1\" class=\"dataframe\">\n  <thead>\n    <tr style=\"text-align: right;\">\n      <th>CH</th>\n      <th>逾期90天以上</th>\n      <th>信用卡+信貸額度</th>\n      <th>年齡</th>\n      <th>逾期30天以上次數</th>\n      <th>月可支配所得比例</th>\n      <th>月收入</th>\n      <th>未清償債務數量</th>\n      <th>逾期90天以上次數</th>\n      <th>抵押貸款數量</th>\n      <th>逾期60天以上次數</th>\n      <th>眷屬數量</th>\n    </tr>\n  </thead>\n  <tbody>\n    <tr>\n      <th>0</th>\n      <td>1.0</td>\n      <td>0.766127</td>\n      <td>45</td>\n      <td>2</td>\n      <td>0.802982</td>\n      <td>9120.0</td>\n      <td>13</td>\n      <td>0</td>\n      <td>6</td>\n      <td>0</td>\n      <td>2.0</td>\n    </tr>\n    <tr>\n      <th>1</th>\n      <td>0.0</td>\n      <td>0.957151</td>\n      <td>40</td>\n      <td>0</td>\n      <td>0.121876</td>\n      <td>2600.0</td>\n      <td>4</td>\n      <td>0</td>\n      <td>0</td>\n      <td>0</td>\n      <td>1.0</td>\n    </tr>\n    <tr>\n      <th>2</th>\n      <td>0.0</td>\n      <td>0.658180</td>\n      <td>38</td>\n      <td>1</td>\n      <td>0.085113</td>\n      <td>3042.0</td>\n      <td>2</td>\n      <td>1</td>\n      <td>0</td>\n      <td>0</td>\n      <td>0.0</td>\n    </tr>\n    <tr>\n      <th>3</th>\n      <td>0.0</td>\n      <td>0.233810</td>\n      <td>30</td>\n      <td>0</td>\n      <td>0.036050</td>\n      <td>3300.0</td>\n      <td>5</td>\n      <td>0</td>\n      <td>0</td>\n      <td>0</td>\n      <td>0.0</td>\n    </tr>\n    <tr>\n      <th>4</th>\n      <td>0.0</td>\n      <td>0.907239</td>\n      <td>49</td>\n      <td>1</td>\n      <td>0.024926</td>\n      <td>63588.0</td>\n      <td>7</td>\n      <td>0</td>\n      <td>1</td>\n      <td>0</td>\n      <td>0.0</td>\n    </tr>\n    <tr>\n      <th>...</th>\n      <td>...</td>\n      <td>...</td>\n      <td>...</td>\n      <td>...</td>\n      <td>...</td>\n      <td>...</td>\n      <td>...</td>\n      <td>...</td>\n      <td>...</td>\n      <td>...</td>\n      <td>...</td>\n    </tr>\n    <tr>\n      <th>251498</th>\n      <td>NaN</td>\n      <td>0.282653</td>\n      <td>24</td>\n      <td>0</td>\n      <td>0.068522</td>\n      <td>1400.0</td>\n      <td>5</td>\n      <td>0</td>\n      <td>0</td>\n      <td>0</td>\n      <td>0.0</td>\n    </tr>\n    <tr>\n      <th>251499</th>\n      <td>NaN</td>\n      <td>0.922156</td>\n      <td>36</td>\n      <td>3</td>\n      <td>0.934217</td>\n      <td>7615.0</td>\n      <td>8</td>\n      <td>0</td>\n      <td>2</td>\n      <td>0</td>\n      <td>4.0</td>\n    </tr>\n    <tr>\n      <th>251500</th>\n      <td>NaN</td>\n      <td>0.081596</td>\n      <td>70</td>\n      <td>0</td>\n      <td>836.000000</td>\n      <td>NaN</td>\n      <td>3</td>\n      <td>0</td>\n      <td>0</td>\n      <td>0</td>\n      <td>NaN</td>\n    </tr>\n    <tr>\n      <th>251501</th>\n      <td>NaN</td>\n      <td>0.335457</td>\n      <td>56</td>\n      <td>0</td>\n      <td>3568.000000</td>\n      <td>NaN</td>\n      <td>8</td>\n      <td>0</td>\n      <td>2</td>\n      <td>1</td>\n      <td>3.0</td>\n    </tr>\n    <tr>\n      <th>251502</th>\n      <td>NaN</td>\n      <td>0.441842</td>\n      <td>29</td>\n      <td>0</td>\n      <td>0.198918</td>\n      <td>5916.0</td>\n      <td>12</td>\n      <td>0</td>\n      <td>0</td>\n      <td>0</td>\n      <td>0.0</td>\n    </tr>\n  </tbody>\n</table>\n<p>251503 rows × 11 columns</p>\n</div>"
     },
     "metadata": {},
     "execution_count": 106
    }
   ],
   "source": [
    "import pandas as pd\n",
    "import numpy as np\n",
    "import matplotlib.pyplot as plt\n",
    "\n",
    "df = pd.concat([pd.read_csv('cs-training.csv', index_col=0), pd.read_csv('cs-test.csv', index_col=0)], axis=0)\n",
    "# df = pd.read_csv('cs-training.csv', index_col=0)\n",
    "df.columns = pd.read_excel('Data Dictionary.xls').CH\n",
    "df.reset_index(drop=True, inplace=True)\n",
    "test_index = df[len(pd.read_csv('cs-training.csv')):].index\n",
    "df"
   ]
  },
  {
   "cell_type": "code",
   "execution_count": 107,
   "metadata": {},
   "outputs": [
    {
     "output_type": "execute_result",
     "data": {
      "text/plain": "CH\n逾期90天以上      101503\n信用卡+信貸額度          0\n年齡                0\n逾期30天以上次數         0\n月可支配所得比例          0\n月收入           49834\n未清償債務數量           0\n逾期90天以上次數         0\n抵押貸款數量            0\n逾期60天以上次數         0\n眷屬數量           6550\ndtype: int64"
     },
     "metadata": {},
     "execution_count": 107
    }
   ],
   "source": [
    "df.isnull().sum()\n"
   ]
  },
  {
   "cell_type": "code",
   "execution_count": 108,
   "metadata": {
    "tags": []
   },
   "outputs": [
    {
     "output_type": "stream",
     "name": "stdout",
     "text": "<class 'pandas.core.frame.DataFrame'>\nRangeIndex: 251503 entries, 0 to 251502\nData columns (total 11 columns):\n #   Column     Non-Null Count   Dtype  \n---  ------     --------------   -----  \n 0   逾期90天以上    150000 non-null  float64\n 1   信用卡+信貸額度   251503 non-null  float64\n 2   年齡         251503 non-null  int64  \n 3   逾期30天以上次數  251503 non-null  int64  \n 4   月可支配所得比例   251503 non-null  float64\n 5   月收入        201669 non-null  float64\n 6   未清償債務數量    251503 non-null  int64  \n 7   逾期90天以上次數  251503 non-null  int64  \n 8   抵押貸款數量     251503 non-null  int64  \n 9   逾期60天以上次數  251503 non-null  int64  \n 10  眷屬數量       244953 non-null  float64\ndtypes: float64(5), int64(6)\nmemory usage: 21.1 MB\n"
    }
   ],
   "source": [
    "df.info()"
   ]
  },
  {
   "cell_type": "code",
   "execution_count": 109,
   "metadata": {
    "tags": []
   },
   "outputs": [
    {
     "output_type": "execute_result",
     "data": {
      "text/plain": "CH           逾期90天以上       信用卡+信貸額度             年齡      逾期30天以上次數  \\\ncount  150000.000000  251503.000000  251503.000000  251503.000000   \nmean        0.066840       5.750415      52.339694       0.434245   \nstd         0.249746     229.633980      14.775120       4.335643   \nmin         0.000000       0.000000       0.000000       0.000000   \n25%         0.000000       0.029977      41.000000       0.000000   \n50%         0.000000       0.153575      52.000000       0.000000   \n75%         0.000000       0.561293      63.000000       0.000000   \nmax         1.000000   50708.000000     109.000000      98.000000   \n\nCH          月可支配所得比例           月收入        未清償債務數量      逾期90天以上次數  \\\ncount  251503.000000  2.016690e+05  251503.000000  251503.000000   \nmean      349.562468  6.744818e+03       8.453064       0.278370   \nstd      1884.792016  2.571761e+04       5.145194       4.312539   \nmin         0.000000  0.000000e+00       0.000000       0.000000   \n25%         0.174330  3.400000e+03       5.000000       0.000000   \n50%         0.365612  5.400000e+03       8.000000       0.000000   \n75%         0.861754  8.212000e+03      11.000000       0.000000   \nmax    329664.000000  7.727000e+06      85.000000      98.000000   \n\nCH            抵押貸款數量      逾期60天以上次數           眷屬數量  \ncount  251503.000000  251503.000000  244953.000000  \nmean        1.016155       0.252466       0.761995  \nstd         1.121935       4.299204       1.123905  \nmin         0.000000       0.000000       0.000000  \n25%         0.000000       0.000000       0.000000  \n50%         1.000000       0.000000       0.000000  \n75%         2.000000       0.000000       1.000000  \nmax        54.000000      98.000000      43.000000  ",
      "text/html": "<div>\n<style scoped>\n    .dataframe tbody tr th:only-of-type {\n        vertical-align: middle;\n    }\n\n    .dataframe tbody tr th {\n        vertical-align: top;\n    }\n\n    .dataframe thead th {\n        text-align: right;\n    }\n</style>\n<table border=\"1\" class=\"dataframe\">\n  <thead>\n    <tr style=\"text-align: right;\">\n      <th>CH</th>\n      <th>逾期90天以上</th>\n      <th>信用卡+信貸額度</th>\n      <th>年齡</th>\n      <th>逾期30天以上次數</th>\n      <th>月可支配所得比例</th>\n      <th>月收入</th>\n      <th>未清償債務數量</th>\n      <th>逾期90天以上次數</th>\n      <th>抵押貸款數量</th>\n      <th>逾期60天以上次數</th>\n      <th>眷屬數量</th>\n    </tr>\n  </thead>\n  <tbody>\n    <tr>\n      <th>count</th>\n      <td>150000.000000</td>\n      <td>251503.000000</td>\n      <td>251503.000000</td>\n      <td>251503.000000</td>\n      <td>251503.000000</td>\n      <td>2.016690e+05</td>\n      <td>251503.000000</td>\n      <td>251503.000000</td>\n      <td>251503.000000</td>\n      <td>251503.000000</td>\n      <td>244953.000000</td>\n    </tr>\n    <tr>\n      <th>mean</th>\n      <td>0.066840</td>\n      <td>5.750415</td>\n      <td>52.339694</td>\n      <td>0.434245</td>\n      <td>349.562468</td>\n      <td>6.744818e+03</td>\n      <td>8.453064</td>\n      <td>0.278370</td>\n      <td>1.016155</td>\n      <td>0.252466</td>\n      <td>0.761995</td>\n    </tr>\n    <tr>\n      <th>std</th>\n      <td>0.249746</td>\n      <td>229.633980</td>\n      <td>14.775120</td>\n      <td>4.335643</td>\n      <td>1884.792016</td>\n      <td>2.571761e+04</td>\n      <td>5.145194</td>\n      <td>4.312539</td>\n      <td>1.121935</td>\n      <td>4.299204</td>\n      <td>1.123905</td>\n    </tr>\n    <tr>\n      <th>min</th>\n      <td>0.000000</td>\n      <td>0.000000</td>\n      <td>0.000000</td>\n      <td>0.000000</td>\n      <td>0.000000</td>\n      <td>0.000000e+00</td>\n      <td>0.000000</td>\n      <td>0.000000</td>\n      <td>0.000000</td>\n      <td>0.000000</td>\n      <td>0.000000</td>\n    </tr>\n    <tr>\n      <th>25%</th>\n      <td>0.000000</td>\n      <td>0.029977</td>\n      <td>41.000000</td>\n      <td>0.000000</td>\n      <td>0.174330</td>\n      <td>3.400000e+03</td>\n      <td>5.000000</td>\n      <td>0.000000</td>\n      <td>0.000000</td>\n      <td>0.000000</td>\n      <td>0.000000</td>\n    </tr>\n    <tr>\n      <th>50%</th>\n      <td>0.000000</td>\n      <td>0.153575</td>\n      <td>52.000000</td>\n      <td>0.000000</td>\n      <td>0.365612</td>\n      <td>5.400000e+03</td>\n      <td>8.000000</td>\n      <td>0.000000</td>\n      <td>1.000000</td>\n      <td>0.000000</td>\n      <td>0.000000</td>\n    </tr>\n    <tr>\n      <th>75%</th>\n      <td>0.000000</td>\n      <td>0.561293</td>\n      <td>63.000000</td>\n      <td>0.000000</td>\n      <td>0.861754</td>\n      <td>8.212000e+03</td>\n      <td>11.000000</td>\n      <td>0.000000</td>\n      <td>2.000000</td>\n      <td>0.000000</td>\n      <td>1.000000</td>\n    </tr>\n    <tr>\n      <th>max</th>\n      <td>1.000000</td>\n      <td>50708.000000</td>\n      <td>109.000000</td>\n      <td>98.000000</td>\n      <td>329664.000000</td>\n      <td>7.727000e+06</td>\n      <td>85.000000</td>\n      <td>98.000000</td>\n      <td>54.000000</td>\n      <td>98.000000</td>\n      <td>43.000000</td>\n    </tr>\n  </tbody>\n</table>\n</div>"
     },
     "metadata": {},
     "execution_count": 109
    }
   ],
   "source": [
    "df.describe()"
   ]
  },
  {
   "cell_type": "code",
   "execution_count": 110,
   "metadata": {},
   "outputs": [
    {
     "output_type": "execute_result",
     "data": {
      "text/plain": "CH          逾期90天以上  信用卡+信貸額度        年齡  逾期30天以上次數  月可支配所得比例       月收入  \\\nCH                                                                       \n逾期90天以上    1.000000 -0.002386 -0.102685   0.123159 -0.003291 -0.019746   \n信用卡+信貸額度  -0.002386  1.000000 -0.005476  -0.001194 -0.000243  0.007124   \n年齡        -0.102685 -0.005476  1.000000  -0.049177 -0.001260  0.037717   \n逾期30天以上次數  0.123159 -0.001194 -0.049177   1.000000 -0.001981 -0.010217   \n月可支配所得比例  -0.003291 -0.000243 -0.001260  -0.001981  1.000000 -0.028712   \n月收入       -0.019746  0.007124  0.037717  -0.010217 -0.028712  1.000000   \n未清償債務數量   -0.027445 -0.010880  0.187112  -0.043868  0.008685  0.091455   \n逾期90天以上次數  0.111149 -0.000931 -0.047889   0.975259 -0.002703 -0.012743   \n抵押貸款數量    -0.003005  0.005895  0.065110  -0.024036  0.019574  0.124959   \n逾期60天以上次數  0.093836 -0.000955 -0.043501   0.980131 -0.001801 -0.011116   \n眷屬數量       0.046704  0.002347 -0.206397   0.003538  0.009803  0.062647   \n\nCH          未清償債務數量  逾期90天以上次數    抵押貸款數量  逾期60天以上次數      眷屬數量  \nCH                                                             \n逾期90天以上   -0.027445   0.111149 -0.003005   0.093836  0.046704  \n信用卡+信貸額度  -0.010880  -0.000931  0.005895  -0.000955  0.002347  \n年齡         0.187112  -0.047889  0.065110  -0.043501 -0.206397  \n逾期30天以上次數 -0.043868   0.975259 -0.024036   0.980131  0.003538  \n月可支配所得比例   0.008685  -0.002703  0.019574  -0.001801  0.009803  \n月收入        0.091455  -0.012743  0.124959  -0.011116  0.062647  \n未清償債務數量    1.000000  -0.072249  0.426536  -0.061505  0.038342  \n逾期90天以上次數 -0.072249   1.000000 -0.040573   0.989277 -0.003779  \n抵押貸款數量     0.426536  -0.040573  1.000000  -0.034118  0.118997  \n逾期60天以上次數 -0.061505   0.989277 -0.034118   1.000000 -0.005092  \n眷屬數量       0.038342  -0.003779  0.118997  -0.005092  1.000000  ",
      "text/html": "<div>\n<style scoped>\n    .dataframe tbody tr th:only-of-type {\n        vertical-align: middle;\n    }\n\n    .dataframe tbody tr th {\n        vertical-align: top;\n    }\n\n    .dataframe thead th {\n        text-align: right;\n    }\n</style>\n<table border=\"1\" class=\"dataframe\">\n  <thead>\n    <tr style=\"text-align: right;\">\n      <th>CH</th>\n      <th>逾期90天以上</th>\n      <th>信用卡+信貸額度</th>\n      <th>年齡</th>\n      <th>逾期30天以上次數</th>\n      <th>月可支配所得比例</th>\n      <th>月收入</th>\n      <th>未清償債務數量</th>\n      <th>逾期90天以上次數</th>\n      <th>抵押貸款數量</th>\n      <th>逾期60天以上次數</th>\n      <th>眷屬數量</th>\n    </tr>\n    <tr>\n      <th>CH</th>\n      <th></th>\n      <th></th>\n      <th></th>\n      <th></th>\n      <th></th>\n      <th></th>\n      <th></th>\n      <th></th>\n      <th></th>\n      <th></th>\n      <th></th>\n    </tr>\n  </thead>\n  <tbody>\n    <tr>\n      <th>逾期90天以上</th>\n      <td>1.000000</td>\n      <td>-0.002386</td>\n      <td>-0.102685</td>\n      <td>0.123159</td>\n      <td>-0.003291</td>\n      <td>-0.019746</td>\n      <td>-0.027445</td>\n      <td>0.111149</td>\n      <td>-0.003005</td>\n      <td>0.093836</td>\n      <td>0.046704</td>\n    </tr>\n    <tr>\n      <th>信用卡+信貸額度</th>\n      <td>-0.002386</td>\n      <td>1.000000</td>\n      <td>-0.005476</td>\n      <td>-0.001194</td>\n      <td>-0.000243</td>\n      <td>0.007124</td>\n      <td>-0.010880</td>\n      <td>-0.000931</td>\n      <td>0.005895</td>\n      <td>-0.000955</td>\n      <td>0.002347</td>\n    </tr>\n    <tr>\n      <th>年齡</th>\n      <td>-0.102685</td>\n      <td>-0.005476</td>\n      <td>1.000000</td>\n      <td>-0.049177</td>\n      <td>-0.001260</td>\n      <td>0.037717</td>\n      <td>0.187112</td>\n      <td>-0.047889</td>\n      <td>0.065110</td>\n      <td>-0.043501</td>\n      <td>-0.206397</td>\n    </tr>\n    <tr>\n      <th>逾期30天以上次數</th>\n      <td>0.123159</td>\n      <td>-0.001194</td>\n      <td>-0.049177</td>\n      <td>1.000000</td>\n      <td>-0.001981</td>\n      <td>-0.010217</td>\n      <td>-0.043868</td>\n      <td>0.975259</td>\n      <td>-0.024036</td>\n      <td>0.980131</td>\n      <td>0.003538</td>\n    </tr>\n    <tr>\n      <th>月可支配所得比例</th>\n      <td>-0.003291</td>\n      <td>-0.000243</td>\n      <td>-0.001260</td>\n      <td>-0.001981</td>\n      <td>1.000000</td>\n      <td>-0.028712</td>\n      <td>0.008685</td>\n      <td>-0.002703</td>\n      <td>0.019574</td>\n      <td>-0.001801</td>\n      <td>0.009803</td>\n    </tr>\n    <tr>\n      <th>月收入</th>\n      <td>-0.019746</td>\n      <td>0.007124</td>\n      <td>0.037717</td>\n      <td>-0.010217</td>\n      <td>-0.028712</td>\n      <td>1.000000</td>\n      <td>0.091455</td>\n      <td>-0.012743</td>\n      <td>0.124959</td>\n      <td>-0.011116</td>\n      <td>0.062647</td>\n    </tr>\n    <tr>\n      <th>未清償債務數量</th>\n      <td>-0.027445</td>\n      <td>-0.010880</td>\n      <td>0.187112</td>\n      <td>-0.043868</td>\n      <td>0.008685</td>\n      <td>0.091455</td>\n      <td>1.000000</td>\n      <td>-0.072249</td>\n      <td>0.426536</td>\n      <td>-0.061505</td>\n      <td>0.038342</td>\n    </tr>\n    <tr>\n      <th>逾期90天以上次數</th>\n      <td>0.111149</td>\n      <td>-0.000931</td>\n      <td>-0.047889</td>\n      <td>0.975259</td>\n      <td>-0.002703</td>\n      <td>-0.012743</td>\n      <td>-0.072249</td>\n      <td>1.000000</td>\n      <td>-0.040573</td>\n      <td>0.989277</td>\n      <td>-0.003779</td>\n    </tr>\n    <tr>\n      <th>抵押貸款數量</th>\n      <td>-0.003005</td>\n      <td>0.005895</td>\n      <td>0.065110</td>\n      <td>-0.024036</td>\n      <td>0.019574</td>\n      <td>0.124959</td>\n      <td>0.426536</td>\n      <td>-0.040573</td>\n      <td>1.000000</td>\n      <td>-0.034118</td>\n      <td>0.118997</td>\n    </tr>\n    <tr>\n      <th>逾期60天以上次數</th>\n      <td>0.093836</td>\n      <td>-0.000955</td>\n      <td>-0.043501</td>\n      <td>0.980131</td>\n      <td>-0.001801</td>\n      <td>-0.011116</td>\n      <td>-0.061505</td>\n      <td>0.989277</td>\n      <td>-0.034118</td>\n      <td>1.000000</td>\n      <td>-0.005092</td>\n    </tr>\n    <tr>\n      <th>眷屬數量</th>\n      <td>0.046704</td>\n      <td>0.002347</td>\n      <td>-0.206397</td>\n      <td>0.003538</td>\n      <td>0.009803</td>\n      <td>0.062647</td>\n      <td>0.038342</td>\n      <td>-0.003779</td>\n      <td>0.118997</td>\n      <td>-0.005092</td>\n      <td>1.000000</td>\n    </tr>\n  </tbody>\n</table>\n</div>"
     },
     "metadata": {},
     "execution_count": 110
    }
   ],
   "source": [
    "df.dropna().corr()"
   ]
  },
  {
   "cell_type": "code",
   "execution_count": 111,
   "metadata": {
    "tags": []
   },
   "outputs": [],
   "source": [
    "#  feature_clean = ['信用卡+信貸額度', '年齡', '月可支配所得比例', '月收入', '未清償債務數量']\n",
    "#  Q1 = df[feature_clean].quantile(0.25)\n",
    "#  Q3 = df[feature_clean].quantile(0.75)\n",
    "#  IQR = Q3 - Q1\n",
    "\n",
    "#  train = df[:len(pd.read_csv('cs-training.csv'))]\n",
    "\n",
    "#  for i in range(len(feature_clean)):\n",
    "#      train = train[train[feature_clean[i]] > (Q1[i] - 1.5 * IQR[i])]\n",
    "#      train = train[train[feature_clean[i]] < (Q3[i] + 1.5 * IQR[i])]\n",
    "\n",
    "# df = pd.concat([train, df.loc[test_index]], axis=0)"
   ]
  },
  {
   "cell_type": "code",
   "execution_count": 112,
   "metadata": {},
   "outputs": [
    {
     "output_type": "execute_result",
     "data": {
      "text/plain": "CH\n逾期90天以上      101503\n信用卡+信貸額度          0\n年齡                0\n逾期30天以上次數         0\n月可支配所得比例          0\n月收入           49834\n未清償債務數量           0\n逾期90天以上次數         0\n抵押貸款數量            0\n逾期60天以上次數         0\n眷屬數量           6550\ndtype: int64"
     },
     "metadata": {},
     "execution_count": 112
    }
   ],
   "source": [
    "df.isnull().sum()"
   ]
  },
  {
   "cell_type": "code",
   "execution_count": 113,
   "metadata": {},
   "outputs": [],
   "source": [
    "df.月收入.fillna(df.月收入.median(), inplace=True)\n",
    "df.眷屬數量.fillna(df.眷屬數量.mode()[0], inplace=True)"
   ]
  },
  {
   "cell_type": "code",
   "execution_count": 114,
   "metadata": {},
   "outputs": [
    {
     "output_type": "execute_result",
     "data": {
      "text/plain": "PCA(n_components=6)"
     },
     "metadata": {},
     "execution_count": 114
    }
   ],
   "source": [
    "from sklearn.preprocessing import StandardScaler\n",
    "from sklearn.decomposition import PCA\n",
    "\n",
    "scaler = StandardScaler()\n",
    "df_std = scaler.fit(df[df.columns[1:]].values)\n",
    "df_std = df_std.transform(df[df.columns[1:]].values)\n",
    "\n",
    "pca = PCA(n_components=6)\n",
    "pca.fit(df_std)"
   ]
  },
  {
   "cell_type": "code",
   "execution_count": 115,
   "metadata": {},
   "outputs": [
    {
     "output_type": "execute_result",
     "data": {
      "text/plain": "array([0.29976166, 0.45065238, 0.57421382, 0.6755156 , 0.77557915,\n       0.87087259])"
     },
     "metadata": {},
     "execution_count": 115
    }
   ],
   "source": [
    "pca.explained_variance_ratio_.cumsum()"
   ]
  },
  {
   "cell_type": "code",
   "execution_count": 116,
   "metadata": {},
   "outputs": [
    {
     "output_type": "execute_result",
     "data": {
      "text/plain": "CH  信用卡+信貸額度        年齡  逾期30天以上次數  月可支配所得比例       月收入   未清償債務數量  逾期90天以上次數  \\\n0  -0.000477 -0.060208   0.572212 -0.013192 -0.009168 -0.078125   0.574178   \n1  -0.006181  0.140924   0.068232  0.213774  0.158363  0.648009   0.050352   \n2  -0.025729  0.678506   0.018926  0.197629 -0.065963  0.077731   0.023323   \n3  -0.247387  0.225584   0.006481 -0.635005  0.689285  0.063357   0.007079   \n4   0.953688  0.044387   0.000125 -0.043390  0.289853 -0.035957   0.001213   \n5  -0.167460 -0.181207  -0.014436  0.677270  0.639268 -0.251095  -0.008960   \n\nCH    抵押貸款數量  逾期60天以上次數      眷屬數量  \n0  -0.054090   0.574385 -0.007847  \n1   0.665553   0.057302  0.189666  \n2  -0.075454   0.026398 -0.694424  \n3  -0.073452   0.008014 -0.000823  \n4  -0.010928   0.001346 -0.034589  \n5  -0.067923  -0.011416 -0.060680  ",
      "text/html": "<div>\n<style scoped>\n    .dataframe tbody tr th:only-of-type {\n        vertical-align: middle;\n    }\n\n    .dataframe tbody tr th {\n        vertical-align: top;\n    }\n\n    .dataframe thead th {\n        text-align: right;\n    }\n</style>\n<table border=\"1\" class=\"dataframe\">\n  <thead>\n    <tr style=\"text-align: right;\">\n      <th>CH</th>\n      <th>信用卡+信貸額度</th>\n      <th>年齡</th>\n      <th>逾期30天以上次數</th>\n      <th>月可支配所得比例</th>\n      <th>月收入</th>\n      <th>未清償債務數量</th>\n      <th>逾期90天以上次數</th>\n      <th>抵押貸款數量</th>\n      <th>逾期60天以上次數</th>\n      <th>眷屬數量</th>\n    </tr>\n  </thead>\n  <tbody>\n    <tr>\n      <th>0</th>\n      <td>-0.000477</td>\n      <td>-0.060208</td>\n      <td>0.572212</td>\n      <td>-0.013192</td>\n      <td>-0.009168</td>\n      <td>-0.078125</td>\n      <td>0.574178</td>\n      <td>-0.054090</td>\n      <td>0.574385</td>\n      <td>-0.007847</td>\n    </tr>\n    <tr>\n      <th>1</th>\n      <td>-0.006181</td>\n      <td>0.140924</td>\n      <td>0.068232</td>\n      <td>0.213774</td>\n      <td>0.158363</td>\n      <td>0.648009</td>\n      <td>0.050352</td>\n      <td>0.665553</td>\n      <td>0.057302</td>\n      <td>0.189666</td>\n    </tr>\n    <tr>\n      <th>2</th>\n      <td>-0.025729</td>\n      <td>0.678506</td>\n      <td>0.018926</td>\n      <td>0.197629</td>\n      <td>-0.065963</td>\n      <td>0.077731</td>\n      <td>0.023323</td>\n      <td>-0.075454</td>\n      <td>0.026398</td>\n      <td>-0.694424</td>\n    </tr>\n    <tr>\n      <th>3</th>\n      <td>-0.247387</td>\n      <td>0.225584</td>\n      <td>0.006481</td>\n      <td>-0.635005</td>\n      <td>0.689285</td>\n      <td>0.063357</td>\n      <td>0.007079</td>\n      <td>-0.073452</td>\n      <td>0.008014</td>\n      <td>-0.000823</td>\n    </tr>\n    <tr>\n      <th>4</th>\n      <td>0.953688</td>\n      <td>0.044387</td>\n      <td>0.000125</td>\n      <td>-0.043390</td>\n      <td>0.289853</td>\n      <td>-0.035957</td>\n      <td>0.001213</td>\n      <td>-0.010928</td>\n      <td>0.001346</td>\n      <td>-0.034589</td>\n    </tr>\n    <tr>\n      <th>5</th>\n      <td>-0.167460</td>\n      <td>-0.181207</td>\n      <td>-0.014436</td>\n      <td>0.677270</td>\n      <td>0.639268</td>\n      <td>-0.251095</td>\n      <td>-0.008960</td>\n      <td>-0.067923</td>\n      <td>-0.011416</td>\n      <td>-0.060680</td>\n    </tr>\n  </tbody>\n</table>\n</div>"
     },
     "metadata": {},
     "execution_count": 116
    }
   ],
   "source": [
    "pca_components = pd.DataFrame(pca.components_)\n",
    "pca_components.columns = df.columns[1:]\n",
    "pca_components"
   ]
  },
  {
   "cell_type": "code",
   "execution_count": 117,
   "metadata": {},
   "outputs": [],
   "source": [
    "pca_name = ['pca_逾期未繳紀錄', 'pca_貸款次數相關', 'pca_年齡相關', 'pca_所得相關', 'pca_信貸總額相關', '可支配所得相關']"
   ]
  },
  {
   "cell_type": "code",
   "execution_count": 118,
   "metadata": {},
   "outputs": [
    {
     "output_type": "execute_result",
     "data": {
      "text/plain": "        逾期90天以上  信用卡+信貸額度  年齡  逾期30天以上次數     月可支配所得比例      月收入  未清償債務數量  \\\n0           1.0  0.766127  45          2     0.802982   9120.0       13   \n1           0.0  0.957151  40          0     0.121876   2600.0        4   \n2           0.0  0.658180  38          1     0.085113   3042.0        2   \n3           0.0  0.233810  30          0     0.036050   3300.0        5   \n4           0.0  0.907239  49          1     0.024926  63588.0        7   \n...         ...       ...  ..        ...          ...      ...      ...   \n251498      NaN  0.282653  24          0     0.068522   1400.0        5   \n251499      NaN  0.922156  36          3     0.934217   7615.0        8   \n251500      NaN  0.081596  70          0   836.000000   5400.0        3   \n251501      NaN  0.335457  56          0  3568.000000   5400.0        8   \n251502      NaN  0.441842  29          0     0.198918   5916.0       12   \n\n        逾期90天以上次數  抵押貸款數量  逾期60天以上次數  眷屬數量  pca_逾期未繳紀錄  pca_貸款次數相關  pca_年齡相關  \\\n0               0       6          0   2.0   -0.151002    3.669752 -1.426174   \n1               0       0          0   1.0    0.040972   -1.317125 -0.756026   \n2               1       0          0   0.0    0.351468   -1.727618 -0.247188   \n3               0       0          0   0.0    0.073293   -1.451721 -0.579714   \n4               0       1          0   0.0    0.025273    0.004793  0.087423   \n...           ...     ...        ...   ...         ...         ...       ...   \n251498          0       0          0   0.0    0.098499   -1.522009 -0.849809   \n251499          0       2          0   4.0    0.272950    0.926676 -2.882049   \n251500          0       0          0   0.0   -0.066024   -1.212837  1.308621   \n251501          0       2          1   3.0   -0.087934    1.302934 -0.967766   \n251502          0       0          0   0.0   -0.029963   -0.561649 -0.527381   \n\n        pca_所得相關  pca_信貸總額相關   可支配所得相關  \n0      -0.179957   -0.120906 -0.554357  \n1      -0.171632   -0.064879  0.189147  \n2      -0.209361   -0.021280  0.372726  \n3      -0.289505   -0.065104  0.337293  \n4       1.764507    0.729684  1.615389  \n...          ...         ...       ...  \n251498 -0.438029   -0.106834  0.358127  \n251499 -0.162288   -0.154303 -0.111731  \n251500  0.077938    0.075587  0.303104  \n251501 -1.126244   -0.175420  0.925427  \n251502 -0.140577   -0.083250  0.080449  \n\n[251503 rows x 17 columns]",
      "text/html": "<div>\n<style scoped>\n    .dataframe tbody tr th:only-of-type {\n        vertical-align: middle;\n    }\n\n    .dataframe tbody tr th {\n        vertical-align: top;\n    }\n\n    .dataframe thead th {\n        text-align: right;\n    }\n</style>\n<table border=\"1\" class=\"dataframe\">\n  <thead>\n    <tr style=\"text-align: right;\">\n      <th></th>\n      <th>逾期90天以上</th>\n      <th>信用卡+信貸額度</th>\n      <th>年齡</th>\n      <th>逾期30天以上次數</th>\n      <th>月可支配所得比例</th>\n      <th>月收入</th>\n      <th>未清償債務數量</th>\n      <th>逾期90天以上次數</th>\n      <th>抵押貸款數量</th>\n      <th>逾期60天以上次數</th>\n      <th>眷屬數量</th>\n      <th>pca_逾期未繳紀錄</th>\n      <th>pca_貸款次數相關</th>\n      <th>pca_年齡相關</th>\n      <th>pca_所得相關</th>\n      <th>pca_信貸總額相關</th>\n      <th>可支配所得相關</th>\n    </tr>\n  </thead>\n  <tbody>\n    <tr>\n      <th>0</th>\n      <td>1.0</td>\n      <td>0.766127</td>\n      <td>45</td>\n      <td>2</td>\n      <td>0.802982</td>\n      <td>9120.0</td>\n      <td>13</td>\n      <td>0</td>\n      <td>6</td>\n      <td>0</td>\n      <td>2.0</td>\n      <td>-0.151002</td>\n      <td>3.669752</td>\n      <td>-1.426174</td>\n      <td>-0.179957</td>\n      <td>-0.120906</td>\n      <td>-0.554357</td>\n    </tr>\n    <tr>\n      <th>1</th>\n      <td>0.0</td>\n      <td>0.957151</td>\n      <td>40</td>\n      <td>0</td>\n      <td>0.121876</td>\n      <td>2600.0</td>\n      <td>4</td>\n      <td>0</td>\n      <td>0</td>\n      <td>0</td>\n      <td>1.0</td>\n      <td>0.040972</td>\n      <td>-1.317125</td>\n      <td>-0.756026</td>\n      <td>-0.171632</td>\n      <td>-0.064879</td>\n      <td>0.189147</td>\n    </tr>\n    <tr>\n      <th>2</th>\n      <td>0.0</td>\n      <td>0.658180</td>\n      <td>38</td>\n      <td>1</td>\n      <td>0.085113</td>\n      <td>3042.0</td>\n      <td>2</td>\n      <td>1</td>\n      <td>0</td>\n      <td>0</td>\n      <td>0.0</td>\n      <td>0.351468</td>\n      <td>-1.727618</td>\n      <td>-0.247188</td>\n      <td>-0.209361</td>\n      <td>-0.021280</td>\n      <td>0.372726</td>\n    </tr>\n    <tr>\n      <th>3</th>\n      <td>0.0</td>\n      <td>0.233810</td>\n      <td>30</td>\n      <td>0</td>\n      <td>0.036050</td>\n      <td>3300.0</td>\n      <td>5</td>\n      <td>0</td>\n      <td>0</td>\n      <td>0</td>\n      <td>0.0</td>\n      <td>0.073293</td>\n      <td>-1.451721</td>\n      <td>-0.579714</td>\n      <td>-0.289505</td>\n      <td>-0.065104</td>\n      <td>0.337293</td>\n    </tr>\n    <tr>\n      <th>4</th>\n      <td>0.0</td>\n      <td>0.907239</td>\n      <td>49</td>\n      <td>1</td>\n      <td>0.024926</td>\n      <td>63588.0</td>\n      <td>7</td>\n      <td>0</td>\n      <td>1</td>\n      <td>0</td>\n      <td>0.0</td>\n      <td>0.025273</td>\n      <td>0.004793</td>\n      <td>0.087423</td>\n      <td>1.764507</td>\n      <td>0.729684</td>\n      <td>1.615389</td>\n    </tr>\n    <tr>\n      <th>...</th>\n      <td>...</td>\n      <td>...</td>\n      <td>...</td>\n      <td>...</td>\n      <td>...</td>\n      <td>...</td>\n      <td>...</td>\n      <td>...</td>\n      <td>...</td>\n      <td>...</td>\n      <td>...</td>\n      <td>...</td>\n      <td>...</td>\n      <td>...</td>\n      <td>...</td>\n      <td>...</td>\n      <td>...</td>\n    </tr>\n    <tr>\n      <th>251498</th>\n      <td>NaN</td>\n      <td>0.282653</td>\n      <td>24</td>\n      <td>0</td>\n      <td>0.068522</td>\n      <td>1400.0</td>\n      <td>5</td>\n      <td>0</td>\n      <td>0</td>\n      <td>0</td>\n      <td>0.0</td>\n      <td>0.098499</td>\n      <td>-1.522009</td>\n      <td>-0.849809</td>\n      <td>-0.438029</td>\n      <td>-0.106834</td>\n      <td>0.358127</td>\n    </tr>\n    <tr>\n      <th>251499</th>\n      <td>NaN</td>\n      <td>0.922156</td>\n      <td>36</td>\n      <td>3</td>\n      <td>0.934217</td>\n      <td>7615.0</td>\n      <td>8</td>\n      <td>0</td>\n      <td>2</td>\n      <td>0</td>\n      <td>4.0</td>\n      <td>0.272950</td>\n      <td>0.926676</td>\n      <td>-2.882049</td>\n      <td>-0.162288</td>\n      <td>-0.154303</td>\n      <td>-0.111731</td>\n    </tr>\n    <tr>\n      <th>251500</th>\n      <td>NaN</td>\n      <td>0.081596</td>\n      <td>70</td>\n      <td>0</td>\n      <td>836.000000</td>\n      <td>5400.0</td>\n      <td>3</td>\n      <td>0</td>\n      <td>0</td>\n      <td>0</td>\n      <td>0.0</td>\n      <td>-0.066024</td>\n      <td>-1.212837</td>\n      <td>1.308621</td>\n      <td>0.077938</td>\n      <td>0.075587</td>\n      <td>0.303104</td>\n    </tr>\n    <tr>\n      <th>251501</th>\n      <td>NaN</td>\n      <td>0.335457</td>\n      <td>56</td>\n      <td>0</td>\n      <td>3568.000000</td>\n      <td>5400.0</td>\n      <td>8</td>\n      <td>0</td>\n      <td>2</td>\n      <td>1</td>\n      <td>3.0</td>\n      <td>-0.087934</td>\n      <td>1.302934</td>\n      <td>-0.967766</td>\n      <td>-1.126244</td>\n      <td>-0.175420</td>\n      <td>0.925427</td>\n    </tr>\n    <tr>\n      <th>251502</th>\n      <td>NaN</td>\n      <td>0.441842</td>\n      <td>29</td>\n      <td>0</td>\n      <td>0.198918</td>\n      <td>5916.0</td>\n      <td>12</td>\n      <td>0</td>\n      <td>0</td>\n      <td>0</td>\n      <td>0.0</td>\n      <td>-0.029963</td>\n      <td>-0.561649</td>\n      <td>-0.527381</td>\n      <td>-0.140577</td>\n      <td>-0.083250</td>\n      <td>0.080449</td>\n    </tr>\n  </tbody>\n</table>\n<p>251503 rows × 17 columns</p>\n</div>"
     },
     "metadata": {},
     "execution_count": 118
    }
   ],
   "source": [
    "df = pd.concat([df, pd.DataFrame(pca.transform(df_std), columns=pca_name)], axis=1)\n",
    "df"
   ]
  },
  {
   "cell_type": "code",
   "execution_count": 119,
   "metadata": {},
   "outputs": [],
   "source": [
    "# train = df.dropna().drop(df.columns[1:11], axis=1)\n",
    "# test = df[len(train):][df.columns[11:]]\n",
    "\n",
    "train = df.dropna()[df.columns[0:11]]\n",
    "test = df[len(train):][df.columns[1:11]]"
   ]
  },
  {
   "cell_type": "code",
   "execution_count": 120,
   "metadata": {},
   "outputs": [
    {
     "output_type": "execute_result",
     "data": {
      "text/plain": "             逾期90天以上       信用卡+信貸額度             年齡      逾期30天以上次數  \\\ncount  150000.000000  150000.000000  150000.000000  150000.000000   \nmean        0.066840       6.048438      52.295207       0.421033   \nstd         0.249746     249.755371      14.771866       4.192781   \nmin         0.000000       0.000000       0.000000       0.000000   \n25%         0.000000       0.029867      41.000000       0.000000   \n50%         0.000000       0.154181      52.000000       0.000000   \n75%         0.000000       0.559046      63.000000       0.000000   \nmax         1.000000   50708.000000     109.000000      98.000000   \n\n            月可支配所得比例           月收入        未清償債務數量      逾期90天以上次數  \\\ncount  150000.000000  1.500000e+05  150000.000000  150000.000000   \nmean      353.005076  6.418455e+03       8.452760       0.265973   \nstd      2037.818523  1.289040e+04       5.145951       4.169304   \nmin         0.000000  0.000000e+00       0.000000       0.000000   \n25%         0.175074  3.903000e+03       5.000000       0.000000   \n50%         0.366508  5.400000e+03       8.000000       0.000000   \n75%         0.868254  7.400000e+03      11.000000       0.000000   \nmax    329664.000000  3.008750e+06      58.000000      98.000000   \n\n              抵押貸款數量      逾期60天以上次數           眷屬數量  \ncount  150000.000000  150000.000000  150000.000000  \nmean        1.018240       0.240387       0.737413  \nstd         1.129771       4.155179       1.107021  \nmin         0.000000       0.000000       0.000000  \n25%         0.000000       0.000000       0.000000  \n50%         1.000000       0.000000       0.000000  \n75%         2.000000       0.000000       1.000000  \nmax        54.000000      98.000000      20.000000  ",
      "text/html": "<div>\n<style scoped>\n    .dataframe tbody tr th:only-of-type {\n        vertical-align: middle;\n    }\n\n    .dataframe tbody tr th {\n        vertical-align: top;\n    }\n\n    .dataframe thead th {\n        text-align: right;\n    }\n</style>\n<table border=\"1\" class=\"dataframe\">\n  <thead>\n    <tr style=\"text-align: right;\">\n      <th></th>\n      <th>逾期90天以上</th>\n      <th>信用卡+信貸額度</th>\n      <th>年齡</th>\n      <th>逾期30天以上次數</th>\n      <th>月可支配所得比例</th>\n      <th>月收入</th>\n      <th>未清償債務數量</th>\n      <th>逾期90天以上次數</th>\n      <th>抵押貸款數量</th>\n      <th>逾期60天以上次數</th>\n      <th>眷屬數量</th>\n    </tr>\n  </thead>\n  <tbody>\n    <tr>\n      <th>count</th>\n      <td>150000.000000</td>\n      <td>150000.000000</td>\n      <td>150000.000000</td>\n      <td>150000.000000</td>\n      <td>150000.000000</td>\n      <td>1.500000e+05</td>\n      <td>150000.000000</td>\n      <td>150000.000000</td>\n      <td>150000.000000</td>\n      <td>150000.000000</td>\n      <td>150000.000000</td>\n    </tr>\n    <tr>\n      <th>mean</th>\n      <td>0.066840</td>\n      <td>6.048438</td>\n      <td>52.295207</td>\n      <td>0.421033</td>\n      <td>353.005076</td>\n      <td>6.418455e+03</td>\n      <td>8.452760</td>\n      <td>0.265973</td>\n      <td>1.018240</td>\n      <td>0.240387</td>\n      <td>0.737413</td>\n    </tr>\n    <tr>\n      <th>std</th>\n      <td>0.249746</td>\n      <td>249.755371</td>\n      <td>14.771866</td>\n      <td>4.192781</td>\n      <td>2037.818523</td>\n      <td>1.289040e+04</td>\n      <td>5.145951</td>\n      <td>4.169304</td>\n      <td>1.129771</td>\n      <td>4.155179</td>\n      <td>1.107021</td>\n    </tr>\n    <tr>\n      <th>min</th>\n      <td>0.000000</td>\n      <td>0.000000</td>\n      <td>0.000000</td>\n      <td>0.000000</td>\n      <td>0.000000</td>\n      <td>0.000000e+00</td>\n      <td>0.000000</td>\n      <td>0.000000</td>\n      <td>0.000000</td>\n      <td>0.000000</td>\n      <td>0.000000</td>\n    </tr>\n    <tr>\n      <th>25%</th>\n      <td>0.000000</td>\n      <td>0.029867</td>\n      <td>41.000000</td>\n      <td>0.000000</td>\n      <td>0.175074</td>\n      <td>3.903000e+03</td>\n      <td>5.000000</td>\n      <td>0.000000</td>\n      <td>0.000000</td>\n      <td>0.000000</td>\n      <td>0.000000</td>\n    </tr>\n    <tr>\n      <th>50%</th>\n      <td>0.000000</td>\n      <td>0.154181</td>\n      <td>52.000000</td>\n      <td>0.000000</td>\n      <td>0.366508</td>\n      <td>5.400000e+03</td>\n      <td>8.000000</td>\n      <td>0.000000</td>\n      <td>1.000000</td>\n      <td>0.000000</td>\n      <td>0.000000</td>\n    </tr>\n    <tr>\n      <th>75%</th>\n      <td>0.000000</td>\n      <td>0.559046</td>\n      <td>63.000000</td>\n      <td>0.000000</td>\n      <td>0.868254</td>\n      <td>7.400000e+03</td>\n      <td>11.000000</td>\n      <td>0.000000</td>\n      <td>2.000000</td>\n      <td>0.000000</td>\n      <td>1.000000</td>\n    </tr>\n    <tr>\n      <th>max</th>\n      <td>1.000000</td>\n      <td>50708.000000</td>\n      <td>109.000000</td>\n      <td>98.000000</td>\n      <td>329664.000000</td>\n      <td>3.008750e+06</td>\n      <td>58.000000</td>\n      <td>98.000000</td>\n      <td>54.000000</td>\n      <td>98.000000</td>\n      <td>20.000000</td>\n    </tr>\n  </tbody>\n</table>\n</div>"
     },
     "metadata": {},
     "execution_count": 120
    }
   ],
   "source": [
    "train.describe()"
   ]
  },
  {
   "cell_type": "code",
   "execution_count": 121,
   "metadata": {},
   "outputs": [],
   "source": [
    "X = train[train.columns[1:]]\n",
    "y = train[train.columns[0]]\n",
    "\n",
    "# from sklearn.utils import resample\n",
    "\n",
    "# X_upsampled, y_upsampled = resample(X[y == 1],\n",
    "#                                     y[y == 1],\n",
    "#                                     replace=True,\n",
    "#                                     n_samples=X[y == 0].shape[0],\n",
    "#                                     random_state=123)\n",
    "\n",
    "# X = pd.concat([X, X_upsampled])\n",
    "# y = pd.concat([y, y_upsampled])\n",
    "# X = X.sample(frac=1).reset_index(drop=True)\n",
    "# y = y.sample(frac=1).reset_index(drop=True)"
   ]
  },
  {
   "cell_type": "code",
   "execution_count": 122,
   "metadata": {},
   "outputs": [],
   "source": [
    "from sklearn.model_selection import train_test_split\n",
    "X_train, X_test, y_train, y_test = train_test_split(X, y, test_size=0.20, stratify=y, random_state=1)"
   ]
  },
  {
   "cell_type": "code",
   "execution_count": 123,
   "metadata": {},
   "outputs": [],
   "source": [
    "from sklearn.pipeline import make_pipeline\n",
    "from sklearn.model_selection import GridSearchCV\n",
    "from sklearn.model_selection import StratifiedKFold\n",
    "from sklearn.ensemble import RandomForestClassifier\n",
    "from sklearn.svm import SVC\n",
    "from sklearn.linear_model import LogisticRegression\n",
    "from sklearn.neighbors import KNeighborsClassifier\n",
    "from sklearn.ensemble import AdaBoostClassifier\n",
    "from sklearn.tree import DecisionTreeClassifier\n",
    "from sklearn.model_selection import cross_val_score\n",
    "from sklearn.preprocessing import StandardScaler\n",
    "from sklearn.preprocessing import Normalizer\n",
    "from sklearn.metrics import make_scorer\n",
    "from sklearn.metrics import precision_score\n",
    "from sklearn.metrics import recall_score\n",
    "from sklearn.metrics import f1_score\n",
    "from sklearn.metrics import roc_curve, auc"
   ]
  },
  {
   "cell_type": "code",
   "execution_count": 124,
   "metadata": {
    "tags": []
   },
   "outputs": [],
   "source": [
    "# from sklearn.linear_model import SGDClassifier\n",
    "\n",
    "# params = {\"loss\" : [\"hinge\", \"log\", \"squared_hinge\", \"modified_huber\"],\n",
    "#     \"alpha\" : [0.0001, 0.001, 0.01, 0.1],\n",
    "#     \"penalty\" : [\"l2\", \"l1\", \"none\"],}\n",
    "\n",
    "# grid_search = GridSearchCV(SGDClassifier(), param_grid=params, scoring='roc_auc', cv=2, verbose=1, n_jobs=-1)\n",
    "\n",
    "\n",
    "# gs = make_pipeline(scaler,pca, grid_search)\n",
    "# gs.fit(X_train, y_train)\n",
    "# scores = cross_val_score(gs, X_train, y_train, \n",
    "#                          scoring='roc_auc', cv=5)\n",
    "# print('CV AUC: %.3f +/- %.3f' % (np.mean(scores),\n",
    "#                                       np.std(scores)))\n",
    "# grid_search.best_score_, grid_search.best_estimator_, grid_search.best_params_"
   ]
  },
  {
   "cell_type": "code",
   "execution_count": 125,
   "metadata": {
    "tags": []
   },
   "outputs": [
    {
     "output_type": "stream",
     "name": "stdout",
     "text": "Roc_auc_score:  72.8271753417966 %\n"
    },
    {
     "output_type": "display_data",
     "data": {
      "text/plain": "<Figure size 180x180 with 1 Axes>",
      "image/svg+xml": "<?xml version=\"1.0\" encoding=\"utf-8\" standalone=\"no\"?>\n<!DOCTYPE svg PUBLIC \"-//W3C//DTD SVG 1.1//EN\"\n  \"http://www.w3.org/Graphics/SVG/1.1/DTD/svg11.dtd\">\n<!-- Created with matplotlib (https://matplotlib.org/) -->\n<svg height=\"172.15625pt\" version=\"1.1\" viewBox=\"0 0 168.840625 172.15625\" width=\"168.840625pt\" xmlns=\"http://www.w3.org/2000/svg\" xmlns:xlink=\"http://www.w3.org/1999/xlink\">\n <defs>\n  <style type=\"text/css\">\n*{stroke-linecap:butt;stroke-linejoin:round;}\n  </style>\n </defs>\n <g id=\"figure_1\">\n  <g id=\"patch_1\">\n   <path d=\"M 0 172.15625 \nL 168.840625 172.15625 \nL 168.840625 0 \nL 0 0 \nz\n\" style=\"fill:none;\"/>\n  </g>\n  <g id=\"axes_1\">\n   <g id=\"patch_2\">\n    <path d=\"M 34.240625 151.278125 \nL 161.640625 151.278125 \nL 161.640625 23.878125 \nL 34.240625 23.878125 \nz\n\" style=\"fill:#ffffff;\"/>\n   </g>\n   <g clip-path=\"url(#pd356359189)\">\n    <image height=\"128\" id=\"imagedf42764af8\" transform=\"scale(1 -1)translate(0 -128)\" width=\"128\" x=\"34.240625\" xlink:href=\"data:image/png;base64,\niVBORw0KGgoAAAANSUhEUgAAAIAAAACACAYAAADDPmHLAAAABHNCSVQICAgIfAhkiAAAAWpJREFUeJzt1EERg1AUBEHAQcTEBVIwnxOHVPKR8Q49rWAPU7vf33VusNf7mp4w6pgekFkFgCsAXAHgCgBXALgCwBUArgBwBYArAFwB4AoAVwC4AsAVAK4AcAWAKwBcAeAKAFcAuALAFQCuAHAFgCsAXAHgCgBXALgCwBUArgBwBYArAFwB4AoAVwC4AsAVAK4AcAWAKwBcAeAKAFcAuALAFQCuAHAFgCsAXAHgCgBXALgCwBUArgBwBYArAFwB4AoAVwC4AsDtn/t3To+Y9F9resKoHgBXALgCwBUArgBwBYArAFwB4AoAVwC4AsAVAK4AcAWAKwBcAeAKAFcAuALAFQCuAHAFgCsAXAHgCgBXALgCwBUArgBwBYArAFwB4AoAVwC4AsAVAK4AcAWAKwBcAeAKAFcAuALAFQCuAHAFgCsAXAHgCgBXALgCwBUArgBwBYArAFwB4AoAVwC4AsAVAK4AcAWAKwDcA3ACCxvroK9vAAAAAElFTkSuQmCC\" y=\"-23.278125\"/>\n   </g>\n   <g id=\"matplotlib.axis_1\">\n    <g id=\"xtick_1\">\n     <g id=\"line2d_1\">\n      <defs>\n       <path d=\"M 0 0 \nL 0 3.5 \n\" id=\"m995faa0d94\" style=\"stroke:#000000;stroke-width:0.8;\"/>\n      </defs>\n      <g>\n       <use style=\"stroke:#000000;stroke-width:0.8;\" x=\"66.090625\" xlink:href=\"#m995faa0d94\" y=\"151.278125\"/>\n      </g>\n     </g>\n     <g id=\"line2d_2\">\n      <defs>\n       <path d=\"M 0 0 \nL 0 -3.5 \n\" id=\"m09a72bb71c\" style=\"stroke:#000000;stroke-width:0.8;\"/>\n      </defs>\n      <g>\n       <use style=\"stroke:#000000;stroke-width:0.8;\" x=\"66.090625\" xlink:href=\"#m09a72bb71c\" y=\"23.878125\"/>\n      </g>\n     </g>\n     <g id=\"text_1\">\n      <!-- 0 -->\n      <defs>\n       <path d=\"M 31.78125 66.40625 \nQ 24.171875 66.40625 20.328125 58.90625 \nQ 16.5 51.421875 16.5 36.375 \nQ 16.5 21.390625 20.328125 13.890625 \nQ 24.171875 6.390625 31.78125 6.390625 \nQ 39.453125 6.390625 43.28125 13.890625 \nQ 47.125 21.390625 47.125 36.375 \nQ 47.125 51.421875 43.28125 58.90625 \nQ 39.453125 66.40625 31.78125 66.40625 \nz\nM 31.78125 74.21875 \nQ 44.046875 74.21875 50.515625 64.515625 \nQ 56.984375 54.828125 56.984375 36.375 \nQ 56.984375 17.96875 50.515625 8.265625 \nQ 44.046875 -1.421875 31.78125 -1.421875 \nQ 19.53125 -1.421875 13.0625 8.265625 \nQ 6.59375 17.96875 6.59375 36.375 \nQ 6.59375 54.828125 13.0625 64.515625 \nQ 19.53125 74.21875 31.78125 74.21875 \nz\n\" id=\"DejaVuSans-48\"/>\n      </defs>\n      <g transform=\"translate(62.909375 14.798438)scale(0.1 -0.1)\">\n       <use xlink:href=\"#DejaVuSans-48\"/>\n      </g>\n     </g>\n    </g>\n    <g id=\"xtick_2\">\n     <g id=\"line2d_3\">\n      <g>\n       <use style=\"stroke:#000000;stroke-width:0.8;\" x=\"129.790625\" xlink:href=\"#m995faa0d94\" y=\"151.278125\"/>\n      </g>\n     </g>\n     <g id=\"line2d_4\">\n      <g>\n       <use style=\"stroke:#000000;stroke-width:0.8;\" x=\"129.790625\" xlink:href=\"#m09a72bb71c\" y=\"23.878125\"/>\n      </g>\n     </g>\n     <g id=\"text_2\">\n      <!-- 1 -->\n      <defs>\n       <path d=\"M 12.40625 8.296875 \nL 28.515625 8.296875 \nL 28.515625 63.921875 \nL 10.984375 60.40625 \nL 10.984375 69.390625 \nL 28.421875 72.90625 \nL 38.28125 72.90625 \nL 38.28125 8.296875 \nL 54.390625 8.296875 \nL 54.390625 0 \nL 12.40625 0 \nz\n\" id=\"DejaVuSans-49\"/>\n      </defs>\n      <g transform=\"translate(126.609375 14.798438)scale(0.1 -0.1)\">\n       <use xlink:href=\"#DejaVuSans-49\"/>\n      </g>\n     </g>\n    </g>\n    <g id=\"text_3\">\n     <!-- Predicted label -->\n     <defs>\n      <path d=\"M 19.671875 64.796875 \nL 19.671875 37.40625 \nL 32.078125 37.40625 \nQ 38.96875 37.40625 42.71875 40.96875 \nQ 46.484375 44.53125 46.484375 51.125 \nQ 46.484375 57.671875 42.71875 61.234375 \nQ 38.96875 64.796875 32.078125 64.796875 \nz\nM 9.8125 72.90625 \nL 32.078125 72.90625 \nQ 44.34375 72.90625 50.609375 67.359375 \nQ 56.890625 61.8125 56.890625 51.125 \nQ 56.890625 40.328125 50.609375 34.8125 \nQ 44.34375 29.296875 32.078125 29.296875 \nL 19.671875 29.296875 \nL 19.671875 0 \nL 9.8125 0 \nz\n\" id=\"DejaVuSans-80\"/>\n      <path d=\"M 41.109375 46.296875 \nQ 39.59375 47.171875 37.8125 47.578125 \nQ 36.03125 48 33.890625 48 \nQ 26.265625 48 22.1875 43.046875 \nQ 18.109375 38.09375 18.109375 28.8125 \nL 18.109375 0 \nL 9.078125 0 \nL 9.078125 54.6875 \nL 18.109375 54.6875 \nL 18.109375 46.1875 \nQ 20.953125 51.171875 25.484375 53.578125 \nQ 30.03125 56 36.53125 56 \nQ 37.453125 56 38.578125 55.875 \nQ 39.703125 55.765625 41.0625 55.515625 \nz\n\" id=\"DejaVuSans-114\"/>\n      <path d=\"M 56.203125 29.59375 \nL 56.203125 25.203125 \nL 14.890625 25.203125 \nQ 15.484375 15.921875 20.484375 11.0625 \nQ 25.484375 6.203125 34.421875 6.203125 \nQ 39.59375 6.203125 44.453125 7.46875 \nQ 49.3125 8.734375 54.109375 11.28125 \nL 54.109375 2.78125 \nQ 49.265625 0.734375 44.1875 -0.34375 \nQ 39.109375 -1.421875 33.890625 -1.421875 \nQ 20.796875 -1.421875 13.15625 6.1875 \nQ 5.515625 13.8125 5.515625 26.8125 \nQ 5.515625 40.234375 12.765625 48.109375 \nQ 20.015625 56 32.328125 56 \nQ 43.359375 56 49.78125 48.890625 \nQ 56.203125 41.796875 56.203125 29.59375 \nz\nM 47.21875 32.234375 \nQ 47.125 39.59375 43.09375 43.984375 \nQ 39.0625 48.390625 32.421875 48.390625 \nQ 24.90625 48.390625 20.390625 44.140625 \nQ 15.875 39.890625 15.1875 32.171875 \nz\n\" id=\"DejaVuSans-101\"/>\n      <path d=\"M 45.40625 46.390625 \nL 45.40625 75.984375 \nL 54.390625 75.984375 \nL 54.390625 0 \nL 45.40625 0 \nL 45.40625 8.203125 \nQ 42.578125 3.328125 38.25 0.953125 \nQ 33.9375 -1.421875 27.875 -1.421875 \nQ 17.96875 -1.421875 11.734375 6.484375 \nQ 5.515625 14.40625 5.515625 27.296875 \nQ 5.515625 40.1875 11.734375 48.09375 \nQ 17.96875 56 27.875 56 \nQ 33.9375 56 38.25 53.625 \nQ 42.578125 51.265625 45.40625 46.390625 \nz\nM 14.796875 27.296875 \nQ 14.796875 17.390625 18.875 11.75 \nQ 22.953125 6.109375 30.078125 6.109375 \nQ 37.203125 6.109375 41.296875 11.75 \nQ 45.40625 17.390625 45.40625 27.296875 \nQ 45.40625 37.203125 41.296875 42.84375 \nQ 37.203125 48.484375 30.078125 48.484375 \nQ 22.953125 48.484375 18.875 42.84375 \nQ 14.796875 37.203125 14.796875 27.296875 \nz\n\" id=\"DejaVuSans-100\"/>\n      <path d=\"M 9.421875 54.6875 \nL 18.40625 54.6875 \nL 18.40625 0 \nL 9.421875 0 \nz\nM 9.421875 75.984375 \nL 18.40625 75.984375 \nL 18.40625 64.59375 \nL 9.421875 64.59375 \nz\n\" id=\"DejaVuSans-105\"/>\n      <path d=\"M 48.78125 52.59375 \nL 48.78125 44.1875 \nQ 44.96875 46.296875 41.140625 47.34375 \nQ 37.3125 48.390625 33.40625 48.390625 \nQ 24.65625 48.390625 19.8125 42.84375 \nQ 14.984375 37.3125 14.984375 27.296875 \nQ 14.984375 17.28125 19.8125 11.734375 \nQ 24.65625 6.203125 33.40625 6.203125 \nQ 37.3125 6.203125 41.140625 7.25 \nQ 44.96875 8.296875 48.78125 10.40625 \nL 48.78125 2.09375 \nQ 45.015625 0.34375 40.984375 -0.53125 \nQ 36.96875 -1.421875 32.421875 -1.421875 \nQ 20.0625 -1.421875 12.78125 6.34375 \nQ 5.515625 14.109375 5.515625 27.296875 \nQ 5.515625 40.671875 12.859375 48.328125 \nQ 20.21875 56 33.015625 56 \nQ 37.15625 56 41.109375 55.140625 \nQ 45.0625 54.296875 48.78125 52.59375 \nz\n\" id=\"DejaVuSans-99\"/>\n      <path d=\"M 18.3125 70.21875 \nL 18.3125 54.6875 \nL 36.8125 54.6875 \nL 36.8125 47.703125 \nL 18.3125 47.703125 \nL 18.3125 18.015625 \nQ 18.3125 11.328125 20.140625 9.421875 \nQ 21.96875 7.515625 27.59375 7.515625 \nL 36.8125 7.515625 \nL 36.8125 0 \nL 27.59375 0 \nQ 17.1875 0 13.234375 3.875 \nQ 9.28125 7.765625 9.28125 18.015625 \nL 9.28125 47.703125 \nL 2.6875 47.703125 \nL 2.6875 54.6875 \nL 9.28125 54.6875 \nL 9.28125 70.21875 \nz\n\" id=\"DejaVuSans-116\"/>\n      <path id=\"DejaVuSans-32\"/>\n      <path d=\"M 9.421875 75.984375 \nL 18.40625 75.984375 \nL 18.40625 0 \nL 9.421875 0 \nz\n\" id=\"DejaVuSans-108\"/>\n      <path d=\"M 34.28125 27.484375 \nQ 23.390625 27.484375 19.1875 25 \nQ 14.984375 22.515625 14.984375 16.5 \nQ 14.984375 11.71875 18.140625 8.90625 \nQ 21.296875 6.109375 26.703125 6.109375 \nQ 34.1875 6.109375 38.703125 11.40625 \nQ 43.21875 16.703125 43.21875 25.484375 \nL 43.21875 27.484375 \nz\nM 52.203125 31.203125 \nL 52.203125 0 \nL 43.21875 0 \nL 43.21875 8.296875 \nQ 40.140625 3.328125 35.546875 0.953125 \nQ 30.953125 -1.421875 24.3125 -1.421875 \nQ 15.921875 -1.421875 10.953125 3.296875 \nQ 6 8.015625 6 15.921875 \nQ 6 25.140625 12.171875 29.828125 \nQ 18.359375 34.515625 30.609375 34.515625 \nL 43.21875 34.515625 \nL 43.21875 35.40625 \nQ 43.21875 41.609375 39.140625 45 \nQ 35.0625 48.390625 27.6875 48.390625 \nQ 23 48.390625 18.546875 47.265625 \nQ 14.109375 46.140625 10.015625 43.890625 \nL 10.015625 52.203125 \nQ 14.9375 54.109375 19.578125 55.046875 \nQ 24.21875 56 28.609375 56 \nQ 40.484375 56 46.34375 49.84375 \nQ 52.203125 43.703125 52.203125 31.203125 \nz\n\" id=\"DejaVuSans-97\"/>\n      <path d=\"M 48.6875 27.296875 \nQ 48.6875 37.203125 44.609375 42.84375 \nQ 40.53125 48.484375 33.40625 48.484375 \nQ 26.265625 48.484375 22.1875 42.84375 \nQ 18.109375 37.203125 18.109375 27.296875 \nQ 18.109375 17.390625 22.1875 11.75 \nQ 26.265625 6.109375 33.40625 6.109375 \nQ 40.53125 6.109375 44.609375 11.75 \nQ 48.6875 17.390625 48.6875 27.296875 \nz\nM 18.109375 46.390625 \nQ 20.953125 51.265625 25.265625 53.625 \nQ 29.59375 56 35.59375 56 \nQ 45.5625 56 51.78125 48.09375 \nQ 58.015625 40.1875 58.015625 27.296875 \nQ 58.015625 14.40625 51.78125 6.484375 \nQ 45.5625 -1.421875 35.59375 -1.421875 \nQ 29.59375 -1.421875 25.265625 0.953125 \nQ 20.953125 3.328125 18.109375 8.203125 \nL 18.109375 0 \nL 9.078125 0 \nL 9.078125 75.984375 \nL 18.109375 75.984375 \nz\n\" id=\"DejaVuSans-98\"/>\n     </defs>\n     <g transform=\"translate(60.788281 162.876562)scale(0.1 -0.1)\">\n      <use xlink:href=\"#DejaVuSans-80\"/>\n      <use x=\"58.552734\" xlink:href=\"#DejaVuSans-114\"/>\n      <use x=\"97.416016\" xlink:href=\"#DejaVuSans-101\"/>\n      <use x=\"158.939453\" xlink:href=\"#DejaVuSans-100\"/>\n      <use x=\"222.416016\" xlink:href=\"#DejaVuSans-105\"/>\n      <use x=\"250.199219\" xlink:href=\"#DejaVuSans-99\"/>\n      <use x=\"305.179688\" xlink:href=\"#DejaVuSans-116\"/>\n      <use x=\"344.388672\" xlink:href=\"#DejaVuSans-101\"/>\n      <use x=\"405.912109\" xlink:href=\"#DejaVuSans-100\"/>\n      <use x=\"469.388672\" xlink:href=\"#DejaVuSans-32\"/>\n      <use x=\"501.175781\" xlink:href=\"#DejaVuSans-108\"/>\n      <use x=\"528.958984\" xlink:href=\"#DejaVuSans-97\"/>\n      <use x=\"590.238281\" xlink:href=\"#DejaVuSans-98\"/>\n      <use x=\"653.714844\" xlink:href=\"#DejaVuSans-101\"/>\n      <use x=\"715.238281\" xlink:href=\"#DejaVuSans-108\"/>\n     </g>\n    </g>\n   </g>\n   <g id=\"matplotlib.axis_2\">\n    <g id=\"ytick_1\">\n     <g id=\"line2d_5\">\n      <defs>\n       <path d=\"M 0 0 \nL -3.5 0 \n\" id=\"m2fad8a1d45\" style=\"stroke:#000000;stroke-width:0.8;\"/>\n      </defs>\n      <g>\n       <use style=\"stroke:#000000;stroke-width:0.8;\" x=\"34.240625\" xlink:href=\"#m2fad8a1d45\" y=\"55.728125\"/>\n      </g>\n     </g>\n     <g id=\"text_4\">\n      <!-- 0 -->\n      <g transform=\"translate(20.878125 59.527344)scale(0.1 -0.1)\">\n       <use xlink:href=\"#DejaVuSans-48\"/>\n      </g>\n     </g>\n    </g>\n    <g id=\"ytick_2\">\n     <g id=\"line2d_6\">\n      <g>\n       <use style=\"stroke:#000000;stroke-width:0.8;\" x=\"34.240625\" xlink:href=\"#m2fad8a1d45\" y=\"119.428125\"/>\n      </g>\n     </g>\n     <g id=\"text_5\">\n      <!-- 1 -->\n      <g transform=\"translate(20.878125 123.227344)scale(0.1 -0.1)\">\n       <use xlink:href=\"#DejaVuSans-49\"/>\n      </g>\n     </g>\n    </g>\n    <g id=\"text_6\">\n     <!-- True label -->\n     <defs>\n      <path d=\"M -0.296875 72.90625 \nL 61.375 72.90625 \nL 61.375 64.59375 \nL 35.5 64.59375 \nL 35.5 0 \nL 25.59375 0 \nL 25.59375 64.59375 \nL -0.296875 64.59375 \nz\n\" id=\"DejaVuSans-84\"/>\n      <path d=\"M 8.5 21.578125 \nL 8.5 54.6875 \nL 17.484375 54.6875 \nL 17.484375 21.921875 \nQ 17.484375 14.15625 20.5 10.265625 \nQ 23.53125 6.390625 29.59375 6.390625 \nQ 36.859375 6.390625 41.078125 11.03125 \nQ 45.3125 15.671875 45.3125 23.6875 \nL 45.3125 54.6875 \nL 54.296875 54.6875 \nL 54.296875 0 \nL 45.3125 0 \nL 45.3125 8.40625 \nQ 42.046875 3.421875 37.71875 1 \nQ 33.40625 -1.421875 27.6875 -1.421875 \nQ 18.265625 -1.421875 13.375 4.4375 \nQ 8.5 10.296875 8.5 21.578125 \nz\nM 31.109375 56 \nz\n\" id=\"DejaVuSans-117\"/>\n     </defs>\n     <g transform=\"translate(14.798438 111.877344)rotate(-90)scale(0.1 -0.1)\">\n      <use xlink:href=\"#DejaVuSans-84\"/>\n      <use x=\"46.333984\" xlink:href=\"#DejaVuSans-114\"/>\n      <use x=\"87.447266\" xlink:href=\"#DejaVuSans-117\"/>\n      <use x=\"150.826172\" xlink:href=\"#DejaVuSans-101\"/>\n      <use x=\"212.349609\" xlink:href=\"#DejaVuSans-32\"/>\n      <use x=\"244.136719\" xlink:href=\"#DejaVuSans-108\"/>\n      <use x=\"271.919922\" xlink:href=\"#DejaVuSans-97\"/>\n      <use x=\"333.199219\" xlink:href=\"#DejaVuSans-98\"/>\n      <use x=\"396.675781\" xlink:href=\"#DejaVuSans-101\"/>\n      <use x=\"458.199219\" xlink:href=\"#DejaVuSans-108\"/>\n     </g>\n    </g>\n   </g>\n   <g id=\"patch_3\">\n    <path d=\"M 34.240625 151.278125 \nL 34.240625 23.878125 \n\" style=\"fill:none;stroke:#000000;stroke-linecap:square;stroke-linejoin:miter;stroke-width:0.8;\"/>\n   </g>\n   <g id=\"patch_4\">\n    <path d=\"M 161.640625 151.278125 \nL 161.640625 23.878125 \n\" style=\"fill:none;stroke:#000000;stroke-linecap:square;stroke-linejoin:miter;stroke-width:0.8;\"/>\n   </g>\n   <g id=\"patch_5\">\n    <path d=\"M 34.240625 151.278125 \nL 161.640625 151.278125 \n\" style=\"fill:none;stroke:#000000;stroke-linecap:square;stroke-linejoin:miter;stroke-width:0.8;\"/>\n   </g>\n   <g id=\"patch_6\">\n    <path d=\"M 34.240625 23.878125 \nL 161.640625 23.878125 \n\" style=\"fill:none;stroke:#000000;stroke-linecap:square;stroke-linejoin:miter;stroke-width:0.8;\"/>\n   </g>\n   <g id=\"text_7\">\n    <!-- 4596 -->\n    <defs>\n     <path d=\"M 37.796875 64.3125 \nL 12.890625 25.390625 \nL 37.796875 25.390625 \nz\nM 35.203125 72.90625 \nL 47.609375 72.90625 \nL 47.609375 25.390625 \nL 58.015625 25.390625 \nL 58.015625 17.1875 \nL 47.609375 17.1875 \nL 47.609375 0 \nL 37.796875 0 \nL 37.796875 17.1875 \nL 4.890625 17.1875 \nL 4.890625 26.703125 \nz\n\" id=\"DejaVuSans-52\"/>\n     <path d=\"M 10.796875 72.90625 \nL 49.515625 72.90625 \nL 49.515625 64.59375 \nL 19.828125 64.59375 \nL 19.828125 46.734375 \nQ 21.96875 47.46875 24.109375 47.828125 \nQ 26.265625 48.1875 28.421875 48.1875 \nQ 40.625 48.1875 47.75 41.5 \nQ 54.890625 34.8125 54.890625 23.390625 \nQ 54.890625 11.625 47.5625 5.09375 \nQ 40.234375 -1.421875 26.90625 -1.421875 \nQ 22.3125 -1.421875 17.546875 -0.640625 \nQ 12.796875 0.140625 7.71875 1.703125 \nL 7.71875 11.625 \nQ 12.109375 9.234375 16.796875 8.0625 \nQ 21.484375 6.890625 26.703125 6.890625 \nQ 35.15625 6.890625 40.078125 11.328125 \nQ 45.015625 15.765625 45.015625 23.390625 \nQ 45.015625 31 40.078125 35.4375 \nQ 35.15625 39.890625 26.703125 39.890625 \nQ 22.75 39.890625 18.8125 39.015625 \nQ 14.890625 38.140625 10.796875 36.28125 \nz\n\" id=\"DejaVuSans-53\"/>\n     <path d=\"M 10.984375 1.515625 \nL 10.984375 10.5 \nQ 14.703125 8.734375 18.5 7.8125 \nQ 22.3125 6.890625 25.984375 6.890625 \nQ 35.75 6.890625 40.890625 13.453125 \nQ 46.046875 20.015625 46.78125 33.40625 \nQ 43.953125 29.203125 39.59375 26.953125 \nQ 35.25 24.703125 29.984375 24.703125 \nQ 19.046875 24.703125 12.671875 31.3125 \nQ 6.296875 37.9375 6.296875 49.421875 \nQ 6.296875 60.640625 12.9375 67.421875 \nQ 19.578125 74.21875 30.609375 74.21875 \nQ 43.265625 74.21875 49.921875 64.515625 \nQ 56.59375 54.828125 56.59375 36.375 \nQ 56.59375 19.140625 48.40625 8.859375 \nQ 40.234375 -1.421875 26.421875 -1.421875 \nQ 22.703125 -1.421875 18.890625 -0.6875 \nQ 15.09375 0.046875 10.984375 1.515625 \nz\nM 30.609375 32.421875 \nQ 37.25 32.421875 41.125 36.953125 \nQ 45.015625 41.5 45.015625 49.421875 \nQ 45.015625 57.28125 41.125 61.84375 \nQ 37.25 66.40625 30.609375 66.40625 \nQ 23.96875 66.40625 20.09375 61.84375 \nQ 16.21875 57.28125 16.21875 49.421875 \nQ 16.21875 41.5 20.09375 36.953125 \nQ 23.96875 32.421875 30.609375 32.421875 \nz\n\" id=\"DejaVuSans-57\"/>\n     <path d=\"M 33.015625 40.375 \nQ 26.375 40.375 22.484375 35.828125 \nQ 18.609375 31.296875 18.609375 23.390625 \nQ 18.609375 15.53125 22.484375 10.953125 \nQ 26.375 6.390625 33.015625 6.390625 \nQ 39.65625 6.390625 43.53125 10.953125 \nQ 47.40625 15.53125 47.40625 23.390625 \nQ 47.40625 31.296875 43.53125 35.828125 \nQ 39.65625 40.375 33.015625 40.375 \nz\nM 52.59375 71.296875 \nL 52.59375 62.3125 \nQ 48.875 64.0625 45.09375 64.984375 \nQ 41.3125 65.921875 37.59375 65.921875 \nQ 27.828125 65.921875 22.671875 59.328125 \nQ 17.53125 52.734375 16.796875 39.40625 \nQ 19.671875 43.65625 24.015625 45.921875 \nQ 28.375 48.1875 33.59375 48.1875 \nQ 44.578125 48.1875 50.953125 41.515625 \nQ 57.328125 34.859375 57.328125 23.390625 \nQ 57.328125 12.15625 50.6875 5.359375 \nQ 44.046875 -1.421875 33.015625 -1.421875 \nQ 20.359375 -1.421875 13.671875 8.265625 \nQ 6.984375 17.96875 6.984375 36.375 \nQ 6.984375 53.65625 15.1875 63.9375 \nQ 23.390625 74.21875 37.203125 74.21875 \nQ 40.921875 74.21875 44.703125 73.484375 \nQ 48.484375 72.75 52.59375 71.296875 \nz\n\" id=\"DejaVuSans-54\"/>\n    </defs>\n    <g transform=\"translate(53.365625 58.4875)scale(0.1 -0.1)\">\n     <use xlink:href=\"#DejaVuSans-52\"/>\n     <use x=\"63.623047\" xlink:href=\"#DejaVuSans-53\"/>\n     <use x=\"127.246094\" xlink:href=\"#DejaVuSans-57\"/>\n     <use x=\"190.869141\" xlink:href=\"#DejaVuSans-54\"/>\n    </g>\n   </g>\n   <g id=\"text_8\">\n    <!-- 5430 -->\n    <defs>\n     <path d=\"M 40.578125 39.3125 \nQ 47.65625 37.796875 51.625 33 \nQ 55.609375 28.21875 55.609375 21.1875 \nQ 55.609375 10.40625 48.1875 4.484375 \nQ 40.765625 -1.421875 27.09375 -1.421875 \nQ 22.515625 -1.421875 17.65625 -0.515625 \nQ 12.796875 0.390625 7.625 2.203125 \nL 7.625 11.71875 \nQ 11.71875 9.328125 16.59375 8.109375 \nQ 21.484375 6.890625 26.8125 6.890625 \nQ 36.078125 6.890625 40.9375 10.546875 \nQ 45.796875 14.203125 45.796875 21.1875 \nQ 45.796875 27.640625 41.28125 31.265625 \nQ 36.765625 34.90625 28.71875 34.90625 \nL 20.21875 34.90625 \nL 20.21875 43.015625 \nL 29.109375 43.015625 \nQ 36.375 43.015625 40.234375 45.921875 \nQ 44.09375 48.828125 44.09375 54.296875 \nQ 44.09375 59.90625 40.109375 62.90625 \nQ 36.140625 65.921875 28.71875 65.921875 \nQ 24.65625 65.921875 20.015625 65.03125 \nQ 15.375 64.15625 9.8125 62.3125 \nL 9.8125 71.09375 \nQ 15.4375 72.65625 20.34375 73.4375 \nQ 25.25 74.21875 29.59375 74.21875 \nQ 40.828125 74.21875 47.359375 69.109375 \nQ 53.90625 64.015625 53.90625 55.328125 \nQ 53.90625 49.265625 50.4375 45.09375 \nQ 46.96875 40.921875 40.578125 39.3125 \nz\n\" id=\"DejaVuSans-51\"/>\n    </defs>\n    <g transform=\"translate(117.065625 58.4875)scale(0.1 -0.1)\">\n     <use xlink:href=\"#DejaVuSans-53\"/>\n     <use x=\"63.623047\" xlink:href=\"#DejaVuSans-52\"/>\n     <use x=\"127.246094\" xlink:href=\"#DejaVuSans-51\"/>\n     <use x=\"190.869141\" xlink:href=\"#DejaVuSans-48\"/>\n    </g>\n   </g>\n   <g id=\"text_9\">\n    <!-- 261 -->\n    <defs>\n     <path d=\"M 19.1875 8.296875 \nL 53.609375 8.296875 \nL 53.609375 0 \nL 7.328125 0 \nL 7.328125 8.296875 \nQ 12.9375 14.109375 22.625 23.890625 \nQ 32.328125 33.6875 34.8125 36.53125 \nQ 39.546875 41.84375 41.421875 45.53125 \nQ 43.3125 49.21875 43.3125 52.78125 \nQ 43.3125 58.59375 39.234375 62.25 \nQ 35.15625 65.921875 28.609375 65.921875 \nQ 23.96875 65.921875 18.8125 64.3125 \nQ 13.671875 62.703125 7.8125 59.421875 \nL 7.8125 69.390625 \nQ 13.765625 71.78125 18.9375 73 \nQ 24.125 74.21875 28.421875 74.21875 \nQ 39.75 74.21875 46.484375 68.546875 \nQ 53.21875 62.890625 53.21875 53.421875 \nQ 53.21875 48.921875 51.53125 44.890625 \nQ 49.859375 40.875 45.40625 35.40625 \nQ 44.1875 33.984375 37.640625 27.21875 \nQ 31.109375 20.453125 19.1875 8.296875 \nz\n\" id=\"DejaVuSans-50\"/>\n    </defs>\n    <g transform=\"translate(56.546875 122.1875)scale(0.1 -0.1)\">\n     <use xlink:href=\"#DejaVuSans-50\"/>\n     <use x=\"63.623047\" xlink:href=\"#DejaVuSans-54\"/>\n     <use x=\"127.246094\" xlink:href=\"#DejaVuSans-49\"/>\n    </g>\n   </g>\n   <g id=\"text_10\">\n    <!-- 139713 -->\n    <defs>\n     <path d=\"M 8.203125 72.90625 \nL 55.078125 72.90625 \nL 55.078125 68.703125 \nL 28.609375 0 \nL 18.3125 0 \nL 43.21875 64.59375 \nL 8.203125 64.59375 \nz\n\" id=\"DejaVuSans-55\"/>\n    </defs>\n    <g transform=\"translate(110.703125 122.1875)scale(0.1 -0.1)\">\n     <use xlink:href=\"#DejaVuSans-49\"/>\n     <use x=\"63.623047\" xlink:href=\"#DejaVuSans-51\"/>\n     <use x=\"127.246094\" xlink:href=\"#DejaVuSans-57\"/>\n     <use x=\"190.869141\" xlink:href=\"#DejaVuSans-55\"/>\n     <use x=\"254.492188\" xlink:href=\"#DejaVuSans-49\"/>\n     <use x=\"318.115234\" xlink:href=\"#DejaVuSans-51\"/>\n    </g>\n   </g>\n  </g>\n </g>\n <defs>\n  <clipPath id=\"pd356359189\">\n   <rect height=\"127.4\" width=\"127.4\" x=\"34.240625\" y=\"23.878125\"/>\n  </clipPath>\n </defs>\n</svg>\n",
      "image/png": "[encoded data removed]"
     },
     "metadata": {
      "needs_background": "light"
     }
    }
   ],
   "source": [
    "from sklearn.metrics import roc_auc_score\n",
    "from sklearn.metrics import confusion_matrix\n",
    "from xgboost import XGBClassifier\n",
    "model = XGBClassifier(tree_method = 'exact', n_jobs=-1, n_estimators=500)\n",
    "model.fit(X,y.values.ravel())\n",
    "y_pred = model.predict(X)\n",
    "print(\"Roc_auc_score: \",roc_auc_score(y,y_pred)*100,\"%\")\n",
    "\n",
    "confmat = confusion_matrix(y_true=y, y_pred=y_pred, labels=[1, 0])\n",
    "\n",
    "fig, ax = plt.subplots(figsize=(2.5, 2.5))\n",
    "ax.matshow(confmat, cmap=plt.cm.Blues, alpha=0.3)\n",
    "for i in range(confmat.shape[0]):\n",
    "    for j in range(confmat.shape[1]):\n",
    "        ax.text(x=j, y=i, s=confmat[i, j], va='center', ha='center')\n",
    "\n",
    "plt.xlabel('Predicted label')\n",
    "plt.ylabel('True label')\n",
    "\n",
    "plt.tight_layout()\n",
    "plt.show()\n",
    "\n",
    "#w"
   ]
  },
  {
   "cell_type": "code",
   "execution_count": 126,
   "metadata": {
    "tags": []
   },
   "outputs": [
    {
     "output_type": "stream",
     "name": "stdout",
     "text": "Fitting 2 folds for each of 1 candidates, totalling 2 fits\n[CV] max_delta_step=0.2, max_depth=5, min_child_weight=20 ............\n[Parallel(n_jobs=1)]: Using backend SequentialBackend with 1 concurrent workers.\n[CV]  max_delta_step=0.2, max_depth=5, min_child_weight=20, total=  17.6s\n[CV] max_delta_step=0.2, max_depth=5, min_child_weight=20 ............\n[Parallel(n_jobs=1)]: Done   1 out of   1 | elapsed:   17.6s remaining:    0.0s\n[CV]  max_delta_step=0.2, max_depth=5, min_child_weight=20, total=  17.4s\n[Parallel(n_jobs=1)]: Done   2 out of   2 | elapsed:   35.0s finished\n最佳參數組合:  {'max_delta_step': 0.2, 'max_depth': 5, 'min_child_weight': 20}\n最佳Score  :  0.8517187588421957\n"
    }
   ],
   "source": [
    "from sklearn.model_selection import cross_val_score\n",
    "from sklearn.model_selection import StratifiedKFold\n",
    "from sklearn.model_selection import GridSearchCV\n",
    "\n",
    "\n",
    "# params = {'max_depth': [5, 10, 15, 20, 25],\n",
    "#           'learning_rate': [0.01, 0.02, 0.05, 0.1, 0.15],\n",
    "#           'n_estimators': [500, 1000, 2000, 3000, 5000],\n",
    "#           'min_child_weight': [0, 2, 5, 10, 20],\n",
    "#           'max_delta_step': [0, 0.2, 0.6, 1, 2],\n",
    "#           'subsample': [0.6, 0.7, 0.8, 0.85, 0.95],\n",
    "#           'colsample_bytree': [0.5, 0.6, 0.7, 0.8, 0.9],\n",
    "#           'reg_alpha': [0, 0.25, 0.5, 0.75, 1],\n",
    "#           'reg_lambda': [0.2, 0.4, 0.6, 0.8, 1],\n",
    "#           'scale_pos_weight': [0.2, 0.4, 0.6, 0.8, 1]}\n",
    "\n",
    "# 已知最佳參數組合，整段註解以下列程式為主，避免重整時多餘效能與時間之浪費\n",
    "\n",
    "params = {'max_delta_step': [0.2], 'max_depth': [5], 'min_child_weight': [20]}\n",
    "\n",
    "gs_xgb = GridSearchCV(estimator=model, param_grid=params, scoring='roc_auc', cv=2, verbose=2)\n",
    "gs_xgb.fit(X_train, y_train)\n",
    "\n",
    "print(\"最佳參數組合: \", gs_xgb.best_params_)\n",
    "print(\"最佳Score  : \", gs_xgb.best_score_)\n",
    "\n",
    "# 最佳參數組合:  {'max_delta_step': 0.2, 'max_depth': 5, 'min_child_weight': 20}"
   ]
  },
  {
   "cell_type": "code",
   "execution_count": 127,
   "metadata": {},
   "outputs": [],
   "source": [
    "final_model = gs_xgb.best_estimator_.fit(X,y)\n",
    "submission = pd.read_csv('sampleEntry.csv', index_col='Id')\n",
    "submission[submission.columns[0]] = final_model.predict_proba(test)[:,1]\n",
    "submission.to_csv('submission.csv')"
   ]
  }
 ],
 "metadata": {
  "language_info": {
   "codemirror_mode": {
    "name": "ipython",
    "version": 3
   },
   "file_extension": ".py",
   "mimetype": "text/x-python",
   "name": "python",
   "nbconvert_exporter": "python",
   "pygments_lexer": "ipython3",
   "version": "3.8.2-final"
  },
  "orig_nbformat": 2,
  "kernelspec": {
   "name": "python38264bit3aa76fa853ed46a2ad3375d0d4ef4b45",
   "display_name": "Python 3.8.2 64-bit"
  }
 },
 "nbformat": 4,
 "nbformat_minor": 2
}